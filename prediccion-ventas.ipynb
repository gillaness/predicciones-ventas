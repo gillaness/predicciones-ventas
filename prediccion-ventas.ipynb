{
 "cells": [
  {
   "cell_type": "code",
   "execution_count": 91,
   "metadata": {
    "id": "9H5VFglbfRvp"
   },
   "outputs": [],
   "source": [
    "# Paso 1: Importar las librerias a utilizar\n",
    "import pandas as pd\n",
    "import matplotlib.pyplot as plt\n",
    "import numpy as np\n",
    "import seaborn as sns"
   ]
  },
  {
   "cell_type": "code",
   "execution_count": 92,
   "metadata": {
    "colab": {
     "base_uri": "https://localhost:8080/"
    },
    "id": "Fsg4XaVoMT7h",
    "outputId": "0788cfe9-795b-403c-b0e9-364c3b5491af"
   },
   "outputs": [],
   "source": [
    "# Google Drive\n",
    "#from google.colab import drive\n",
    "#drive.mount('/content/drive')"
   ]
  },
  {
   "cell_type": "code",
   "execution_count": 93,
   "metadata": {
    "colab": {
     "base_uri": "https://localhost:8080/",
     "height": 309
    },
    "id": "g-Q_E4XzMjMX",
    "outputId": "7fb5384c-b414-4cb6-f840-b62a7f99cd41"
   },
   "outputs": [
    {
     "data": {
      "text/html": [
       "<div>\n",
       "<style scoped>\n",
       "    .dataframe tbody tr th:only-of-type {\n",
       "        vertical-align: middle;\n",
       "    }\n",
       "\n",
       "    .dataframe tbody tr th {\n",
       "        vertical-align: top;\n",
       "    }\n",
       "\n",
       "    .dataframe thead th {\n",
       "        text-align: right;\n",
       "    }\n",
       "</style>\n",
       "<table border=\"1\" class=\"dataframe\">\n",
       "  <thead>\n",
       "    <tr style=\"text-align: right;\">\n",
       "      <th></th>\n",
       "      <th>Item_Identifier</th>\n",
       "      <th>Item_Weight</th>\n",
       "      <th>Item_Fat_Content</th>\n",
       "      <th>Item_Visibility</th>\n",
       "      <th>Item_Type</th>\n",
       "      <th>Item_MRP</th>\n",
       "      <th>Outlet_Identifier</th>\n",
       "      <th>Outlet_Establishment_Year</th>\n",
       "      <th>Outlet_Size</th>\n",
       "      <th>Outlet_Location_Type</th>\n",
       "      <th>Outlet_Type</th>\n",
       "      <th>Item_Outlet_Sales</th>\n",
       "    </tr>\n",
       "  </thead>\n",
       "  <tbody>\n",
       "    <tr>\n",
       "      <th>0</th>\n",
       "      <td>FDA15</td>\n",
       "      <td>9.30</td>\n",
       "      <td>Low Fat</td>\n",
       "      <td>0.016047</td>\n",
       "      <td>Dairy</td>\n",
       "      <td>249.8092</td>\n",
       "      <td>OUT049</td>\n",
       "      <td>1999</td>\n",
       "      <td>Medium</td>\n",
       "      <td>Tier 1</td>\n",
       "      <td>Supermarket Type1</td>\n",
       "      <td>3735.1380</td>\n",
       "    </tr>\n",
       "    <tr>\n",
       "      <th>1</th>\n",
       "      <td>DRC01</td>\n",
       "      <td>5.92</td>\n",
       "      <td>Regular</td>\n",
       "      <td>0.019278</td>\n",
       "      <td>Soft Drinks</td>\n",
       "      <td>48.2692</td>\n",
       "      <td>OUT018</td>\n",
       "      <td>2009</td>\n",
       "      <td>Medium</td>\n",
       "      <td>Tier 3</td>\n",
       "      <td>Supermarket Type2</td>\n",
       "      <td>443.4228</td>\n",
       "    </tr>\n",
       "    <tr>\n",
       "      <th>2</th>\n",
       "      <td>FDN15</td>\n",
       "      <td>17.50</td>\n",
       "      <td>Low Fat</td>\n",
       "      <td>0.016760</td>\n",
       "      <td>Meat</td>\n",
       "      <td>141.6180</td>\n",
       "      <td>OUT049</td>\n",
       "      <td>1999</td>\n",
       "      <td>Medium</td>\n",
       "      <td>Tier 1</td>\n",
       "      <td>Supermarket Type1</td>\n",
       "      <td>2097.2700</td>\n",
       "    </tr>\n",
       "    <tr>\n",
       "      <th>3</th>\n",
       "      <td>FDX07</td>\n",
       "      <td>19.20</td>\n",
       "      <td>Regular</td>\n",
       "      <td>0.000000</td>\n",
       "      <td>Fruits and Vegetables</td>\n",
       "      <td>182.0950</td>\n",
       "      <td>OUT010</td>\n",
       "      <td>1998</td>\n",
       "      <td>NaN</td>\n",
       "      <td>Tier 3</td>\n",
       "      <td>Grocery Store</td>\n",
       "      <td>732.3800</td>\n",
       "    </tr>\n",
       "    <tr>\n",
       "      <th>4</th>\n",
       "      <td>NCD19</td>\n",
       "      <td>8.93</td>\n",
       "      <td>Low Fat</td>\n",
       "      <td>0.000000</td>\n",
       "      <td>Household</td>\n",
       "      <td>53.8614</td>\n",
       "      <td>OUT013</td>\n",
       "      <td>1987</td>\n",
       "      <td>High</td>\n",
       "      <td>Tier 3</td>\n",
       "      <td>Supermarket Type1</td>\n",
       "      <td>994.7052</td>\n",
       "    </tr>\n",
       "  </tbody>\n",
       "</table>\n",
       "</div>"
      ],
      "text/plain": [
       "  Item_Identifier  Item_Weight Item_Fat_Content  Item_Visibility  \\\n",
       "0           FDA15         9.30          Low Fat         0.016047   \n",
       "1           DRC01         5.92          Regular         0.019278   \n",
       "2           FDN15        17.50          Low Fat         0.016760   \n",
       "3           FDX07        19.20          Regular         0.000000   \n",
       "4           NCD19         8.93          Low Fat         0.000000   \n",
       "\n",
       "               Item_Type  Item_MRP Outlet_Identifier  \\\n",
       "0                  Dairy  249.8092            OUT049   \n",
       "1            Soft Drinks   48.2692            OUT018   \n",
       "2                   Meat  141.6180            OUT049   \n",
       "3  Fruits and Vegetables  182.0950            OUT010   \n",
       "4              Household   53.8614            OUT013   \n",
       "\n",
       "   Outlet_Establishment_Year Outlet_Size Outlet_Location_Type  \\\n",
       "0                       1999      Medium               Tier 1   \n",
       "1                       2009      Medium               Tier 3   \n",
       "2                       1999      Medium               Tier 1   \n",
       "3                       1998         NaN               Tier 3   \n",
       "4                       1987        High               Tier 3   \n",
       "\n",
       "         Outlet_Type  Item_Outlet_Sales  \n",
       "0  Supermarket Type1          3735.1380  \n",
       "1  Supermarket Type2           443.4228  \n",
       "2  Supermarket Type1          2097.2700  \n",
       "3      Grocery Store           732.3800  \n",
       "4  Supermarket Type1           994.7052  "
      ]
     },
     "execution_count": 93,
     "metadata": {},
     "output_type": "execute_result"
    }
   ],
   "source": [
    "filename = '/Users/gillanes/Documents/coding_dojo/data/sales_predictions.csv'\n",
    "df = pd.read_csv(filename)\n",
    "\n",
    "df.head()"
   ]
  },
  {
   "cell_type": "code",
   "execution_count": 94,
   "metadata": {
    "colab": {
     "base_uri": "https://localhost:8080/"
    },
    "id": "BsnAeMBAd6KN",
    "outputId": "c4c407f4-cb36-4cf2-a488-73f6d4b8cff8"
   },
   "outputs": [
    {
     "data": {
      "text/plain": [
       "(8523, 12)"
      ]
     },
     "execution_count": 94,
     "metadata": {},
     "output_type": "execute_result"
    }
   ],
   "source": [
    "# Dimensiones del Data Frame\n",
    "df.shape"
   ]
  },
  {
   "cell_type": "code",
   "execution_count": 95,
   "metadata": {
    "colab": {
     "base_uri": "https://localhost:8080/"
    },
    "id": "jZjOnIXzM7jg",
    "outputId": "16075bf6-1e8f-4792-86ff-322e3507c7c1"
   },
   "outputs": [
    {
     "name": "stdout",
     "output_type": "stream",
     "text": [
      "<class 'pandas.core.frame.DataFrame'>\n",
      "RangeIndex: 8523 entries, 0 to 8522\n",
      "Data columns (total 12 columns):\n",
      " #   Column                     Non-Null Count  Dtype  \n",
      "---  ------                     --------------  -----  \n",
      " 0   Item_Identifier            8523 non-null   object \n",
      " 1   Item_Weight                7060 non-null   float64\n",
      " 2   Item_Fat_Content           8523 non-null   object \n",
      " 3   Item_Visibility            8523 non-null   float64\n",
      " 4   Item_Type                  8523 non-null   object \n",
      " 5   Item_MRP                   8523 non-null   float64\n",
      " 6   Outlet_Identifier          8523 non-null   object \n",
      " 7   Outlet_Establishment_Year  8523 non-null   int64  \n",
      " 8   Outlet_Size                6113 non-null   object \n",
      " 9   Outlet_Location_Type       8523 non-null   object \n",
      " 10  Outlet_Type                8523 non-null   object \n",
      " 11  Item_Outlet_Sales          8523 non-null   float64\n",
      "dtypes: float64(4), int64(1), object(7)\n",
      "memory usage: 799.2+ KB\n"
     ]
    }
   ],
   "source": [
    "# Información del Data Frame\n",
    "df.info()"
   ]
  },
  {
   "cell_type": "code",
   "execution_count": 96,
   "metadata": {
    "colab": {
     "base_uri": "https://localhost:8080/"
    },
    "id": "kO9_RG9vNFvA",
    "outputId": "b95bc38f-2ae5-4a82-af35-53f74714dd21"
   },
   "outputs": [
    {
     "data": {
      "text/plain": [
       "Item_Weight    1463\n",
       "Outlet_Size    2410\n",
       "dtype: int64"
      ]
     },
     "execution_count": 96,
     "metadata": {},
     "output_type": "execute_result"
    }
   ],
   "source": [
    "# De la información anterior, podemos ver que el dataset cuenta con 8523 registros y 12 columnas\n",
    "# De la consulta df.info, podemos ver que no todas las columnas tienen 8523 registros\n",
    "# Identificamos la cantidad de valores nulos\n",
    "df.isna().sum()[df.isna().sum()>0]"
   ]
  },
  {
   "cell_type": "code",
   "execution_count": 97,
   "metadata": {
    "colab": {
     "base_uri": "https://localhost:8080/"
    },
    "id": "YC3Rqrc3VzA2",
    "outputId": "697bd485-14ad-4500-d392-efdba3d8e0b7"
   },
   "outputs": [
    {
     "data": {
      "text/plain": [
       "Item_Identifier\n",
       "DRA12    11.600\n",
       "DRA24    19.350\n",
       "DRA59     8.270\n",
       "DRB01     7.390\n",
       "DRB13     6.115\n",
       "          ...  \n",
       "NCZ30     6.590\n",
       "NCZ41    19.850\n",
       "NCZ42    10.500\n",
       "NCZ53     9.600\n",
       "NCZ54    14.650\n",
       "Name: Item_Weight, Length: 1559, dtype: float64"
      ]
     },
     "execution_count": 97,
     "metadata": {},
     "output_type": "execute_result"
    }
   ],
   "source": [
    "# Agrupamos por el peso promedio de cada item\n",
    "# Como cada item tiene su ID (Item Identifier), asumimos que cada uno tiene su peso en particular\n",
    "df.groupby('Item_Identifier')['Item_Weight'].mean()"
   ]
  },
  {
   "cell_type": "code",
   "execution_count": 98,
   "metadata": {
    "id": "1BPXI4TGCxbW"
   },
   "outputs": [],
   "source": [
    "# Almacenamos los datos agrupados anteriormente en una variable\n",
    "pesos_promedios = df.groupby('Item_Identifier')['Item_Weight'].mean()"
   ]
  },
  {
   "cell_type": "code",
   "execution_count": 99,
   "metadata": {
    "id": "H1_x5JRHhZ1d"
   },
   "outputs": [],
   "source": [
    "# Generamos un diccionario que contiene los pesos promedios asociados a cada item\n",
    "dict_pesos_promedios = pesos_promedios.to_dict()"
   ]
  },
  {
   "cell_type": "code",
   "execution_count": 100,
   "metadata": {
    "colab": {
     "base_uri": "https://localhost:8080/"
    },
    "id": "xB2-B2J7TgTj",
    "outputId": "6a89d728-fe63-456b-f8a5-1da3ab58d3c8"
   },
   "outputs": [],
   "source": [
    "# Generamos una lista para identificar cuales items tienen valores de peso faltantes\n",
    "lista_na = []\n",
    "for i in range(len(df)):\n",
    "  if pd.isna(df.at[i, 'Item_Weight']) == True:\n",
    "    lista_na.append(df.at[i, 'Item_Identifier'])\n",
    "lista_na;"
   ]
  },
  {
   "cell_type": "code",
   "execution_count": 101,
   "metadata": {
    "colab": {
     "base_uri": "https://localhost:8080/",
     "height": 292
    },
    "id": "YpVLdl_HlM2C",
    "outputId": "db2c2957-2d6e-4df2-fc86-7b684bf19f6a"
   },
   "outputs": [
    {
     "data": {
      "text/html": [
       "<div>\n",
       "<style scoped>\n",
       "    .dataframe tbody tr th:only-of-type {\n",
       "        vertical-align: middle;\n",
       "    }\n",
       "\n",
       "    .dataframe tbody tr th {\n",
       "        vertical-align: top;\n",
       "    }\n",
       "\n",
       "    .dataframe thead th {\n",
       "        text-align: right;\n",
       "    }\n",
       "</style>\n",
       "<table border=\"1\" class=\"dataframe\">\n",
       "  <thead>\n",
       "    <tr style=\"text-align: right;\">\n",
       "      <th></th>\n",
       "      <th>Item_Identifier</th>\n",
       "      <th>Item_Weight</th>\n",
       "      <th>Item_Fat_Content</th>\n",
       "      <th>Item_Visibility</th>\n",
       "      <th>Item_Type</th>\n",
       "      <th>Item_MRP</th>\n",
       "      <th>Outlet_Identifier</th>\n",
       "      <th>Outlet_Establishment_Year</th>\n",
       "      <th>Outlet_Size</th>\n",
       "      <th>Outlet_Location_Type</th>\n",
       "      <th>Outlet_Type</th>\n",
       "      <th>Item_Outlet_Sales</th>\n",
       "    </tr>\n",
       "  </thead>\n",
       "  <tbody>\n",
       "    <tr>\n",
       "      <th>5850</th>\n",
       "      <td>FDH31</td>\n",
       "      <td>12.0</td>\n",
       "      <td>Regular</td>\n",
       "      <td>0.020443</td>\n",
       "      <td>Meat</td>\n",
       "      <td>98.0042</td>\n",
       "      <td>OUT049</td>\n",
       "      <td>1999</td>\n",
       "      <td>Medium</td>\n",
       "      <td>Tier 1</td>\n",
       "      <td>Supermarket Type1</td>\n",
       "      <td>1587.2672</td>\n",
       "    </tr>\n",
       "    <tr>\n",
       "      <th>5894</th>\n",
       "      <td>FDH31</td>\n",
       "      <td>NaN</td>\n",
       "      <td>Regular</td>\n",
       "      <td>0.000000</td>\n",
       "      <td>Meat</td>\n",
       "      <td>98.2042</td>\n",
       "      <td>OUT019</td>\n",
       "      <td>1985</td>\n",
       "      <td>Small</td>\n",
       "      <td>Tier 1</td>\n",
       "      <td>Grocery Store</td>\n",
       "      <td>198.4084</td>\n",
       "    </tr>\n",
       "    <tr>\n",
       "      <th>6282</th>\n",
       "      <td>FDH31</td>\n",
       "      <td>12.0</td>\n",
       "      <td>Regular</td>\n",
       "      <td>0.020411</td>\n",
       "      <td>Meat</td>\n",
       "      <td>98.6042</td>\n",
       "      <td>OUT046</td>\n",
       "      <td>1997</td>\n",
       "      <td>Small</td>\n",
       "      <td>Tier 1</td>\n",
       "      <td>Supermarket Type1</td>\n",
       "      <td>1091.2462</td>\n",
       "    </tr>\n",
       "    <tr>\n",
       "      <th>6985</th>\n",
       "      <td>FDH31</td>\n",
       "      <td>NaN</td>\n",
       "      <td>Regular</td>\n",
       "      <td>0.020312</td>\n",
       "      <td>Meat</td>\n",
       "      <td>98.1042</td>\n",
       "      <td>OUT027</td>\n",
       "      <td>1985</td>\n",
       "      <td>Medium</td>\n",
       "      <td>Tier 3</td>\n",
       "      <td>Supermarket Type3</td>\n",
       "      <td>2777.7176</td>\n",
       "    </tr>\n",
       "    <tr>\n",
       "      <th>8513</th>\n",
       "      <td>FDH31</td>\n",
       "      <td>12.0</td>\n",
       "      <td>Regular</td>\n",
       "      <td>0.020407</td>\n",
       "      <td>Meat</td>\n",
       "      <td>99.9042</td>\n",
       "      <td>OUT035</td>\n",
       "      <td>2004</td>\n",
       "      <td>Small</td>\n",
       "      <td>Tier 2</td>\n",
       "      <td>Supermarket Type1</td>\n",
       "      <td>595.2252</td>\n",
       "    </tr>\n",
       "  </tbody>\n",
       "</table>\n",
       "</div>"
      ],
      "text/plain": [
       "     Item_Identifier  Item_Weight Item_Fat_Content  Item_Visibility Item_Type  \\\n",
       "5850           FDH31         12.0          Regular         0.020443      Meat   \n",
       "5894           FDH31          NaN          Regular         0.000000      Meat   \n",
       "6282           FDH31         12.0          Regular         0.020411      Meat   \n",
       "6985           FDH31          NaN          Regular         0.020312      Meat   \n",
       "8513           FDH31         12.0          Regular         0.020407      Meat   \n",
       "\n",
       "      Item_MRP Outlet_Identifier  Outlet_Establishment_Year Outlet_Size  \\\n",
       "5850   98.0042            OUT049                       1999      Medium   \n",
       "5894   98.2042            OUT019                       1985       Small   \n",
       "6282   98.6042            OUT046                       1997       Small   \n",
       "6985   98.1042            OUT027                       1985      Medium   \n",
       "8513   99.9042            OUT035                       2004       Small   \n",
       "\n",
       "     Outlet_Location_Type        Outlet_Type  Item_Outlet_Sales  \n",
       "5850               Tier 1  Supermarket Type1          1587.2672  \n",
       "5894               Tier 1      Grocery Store           198.4084  \n",
       "6282               Tier 1  Supermarket Type1          1091.2462  \n",
       "6985               Tier 3  Supermarket Type3          2777.7176  \n",
       "8513               Tier 2  Supermarket Type1           595.2252  "
      ]
     },
     "execution_count": 101,
     "metadata": {},
     "output_type": "execute_result"
    }
   ],
   "source": [
    "# Fitramos por un Item Identifier con valores de Item_Weight faltante para usarlo como prueba\n",
    "df[df['Item_Identifier'] == 'FDH31']"
   ]
  },
  {
   "cell_type": "code",
   "execution_count": 102,
   "metadata": {
    "id": "W4Riz7WfGgdj"
   },
   "outputs": [],
   "source": [
    "# Recorremos el Data Frame y reemplazamos el valor faltante por el peso promedio segun el item identifier\n",
    "for i in range(len(df)):\n",
    "  if pd.isna(df.at[i, 'Item_Weight']) == True:\n",
    "    df.at[i,'Item_Weight']=dict_pesos_promedios[df.at[i, 'Item_Identifier']]"
   ]
  },
  {
   "cell_type": "code",
   "execution_count": 103,
   "metadata": {
    "colab": {
     "base_uri": "https://localhost:8080/",
     "height": 292
    },
    "id": "N-9_VH4KH5pP",
    "outputId": "1f14c7c8-0c22-4b35-b8dd-e48b2b2e191c"
   },
   "outputs": [
    {
     "data": {
      "text/html": [
       "<div>\n",
       "<style scoped>\n",
       "    .dataframe tbody tr th:only-of-type {\n",
       "        vertical-align: middle;\n",
       "    }\n",
       "\n",
       "    .dataframe tbody tr th {\n",
       "        vertical-align: top;\n",
       "    }\n",
       "\n",
       "    .dataframe thead th {\n",
       "        text-align: right;\n",
       "    }\n",
       "</style>\n",
       "<table border=\"1\" class=\"dataframe\">\n",
       "  <thead>\n",
       "    <tr style=\"text-align: right;\">\n",
       "      <th></th>\n",
       "      <th>Item_Identifier</th>\n",
       "      <th>Item_Weight</th>\n",
       "      <th>Item_Fat_Content</th>\n",
       "      <th>Item_Visibility</th>\n",
       "      <th>Item_Type</th>\n",
       "      <th>Item_MRP</th>\n",
       "      <th>Outlet_Identifier</th>\n",
       "      <th>Outlet_Establishment_Year</th>\n",
       "      <th>Outlet_Size</th>\n",
       "      <th>Outlet_Location_Type</th>\n",
       "      <th>Outlet_Type</th>\n",
       "      <th>Item_Outlet_Sales</th>\n",
       "    </tr>\n",
       "  </thead>\n",
       "  <tbody>\n",
       "    <tr>\n",
       "      <th>5850</th>\n",
       "      <td>FDH31</td>\n",
       "      <td>12.0</td>\n",
       "      <td>Regular</td>\n",
       "      <td>0.020443</td>\n",
       "      <td>Meat</td>\n",
       "      <td>98.0042</td>\n",
       "      <td>OUT049</td>\n",
       "      <td>1999</td>\n",
       "      <td>Medium</td>\n",
       "      <td>Tier 1</td>\n",
       "      <td>Supermarket Type1</td>\n",
       "      <td>1587.2672</td>\n",
       "    </tr>\n",
       "    <tr>\n",
       "      <th>5894</th>\n",
       "      <td>FDH31</td>\n",
       "      <td>12.0</td>\n",
       "      <td>Regular</td>\n",
       "      <td>0.000000</td>\n",
       "      <td>Meat</td>\n",
       "      <td>98.2042</td>\n",
       "      <td>OUT019</td>\n",
       "      <td>1985</td>\n",
       "      <td>Small</td>\n",
       "      <td>Tier 1</td>\n",
       "      <td>Grocery Store</td>\n",
       "      <td>198.4084</td>\n",
       "    </tr>\n",
       "    <tr>\n",
       "      <th>6282</th>\n",
       "      <td>FDH31</td>\n",
       "      <td>12.0</td>\n",
       "      <td>Regular</td>\n",
       "      <td>0.020411</td>\n",
       "      <td>Meat</td>\n",
       "      <td>98.6042</td>\n",
       "      <td>OUT046</td>\n",
       "      <td>1997</td>\n",
       "      <td>Small</td>\n",
       "      <td>Tier 1</td>\n",
       "      <td>Supermarket Type1</td>\n",
       "      <td>1091.2462</td>\n",
       "    </tr>\n",
       "    <tr>\n",
       "      <th>6985</th>\n",
       "      <td>FDH31</td>\n",
       "      <td>12.0</td>\n",
       "      <td>Regular</td>\n",
       "      <td>0.020312</td>\n",
       "      <td>Meat</td>\n",
       "      <td>98.1042</td>\n",
       "      <td>OUT027</td>\n",
       "      <td>1985</td>\n",
       "      <td>Medium</td>\n",
       "      <td>Tier 3</td>\n",
       "      <td>Supermarket Type3</td>\n",
       "      <td>2777.7176</td>\n",
       "    </tr>\n",
       "    <tr>\n",
       "      <th>8513</th>\n",
       "      <td>FDH31</td>\n",
       "      <td>12.0</td>\n",
       "      <td>Regular</td>\n",
       "      <td>0.020407</td>\n",
       "      <td>Meat</td>\n",
       "      <td>99.9042</td>\n",
       "      <td>OUT035</td>\n",
       "      <td>2004</td>\n",
       "      <td>Small</td>\n",
       "      <td>Tier 2</td>\n",
       "      <td>Supermarket Type1</td>\n",
       "      <td>595.2252</td>\n",
       "    </tr>\n",
       "  </tbody>\n",
       "</table>\n",
       "</div>"
      ],
      "text/plain": [
       "     Item_Identifier  Item_Weight Item_Fat_Content  Item_Visibility Item_Type  \\\n",
       "5850           FDH31         12.0          Regular         0.020443      Meat   \n",
       "5894           FDH31         12.0          Regular         0.000000      Meat   \n",
       "6282           FDH31         12.0          Regular         0.020411      Meat   \n",
       "6985           FDH31         12.0          Regular         0.020312      Meat   \n",
       "8513           FDH31         12.0          Regular         0.020407      Meat   \n",
       "\n",
       "      Item_MRP Outlet_Identifier  Outlet_Establishment_Year Outlet_Size  \\\n",
       "5850   98.0042            OUT049                       1999      Medium   \n",
       "5894   98.2042            OUT019                       1985       Small   \n",
       "6282   98.6042            OUT046                       1997       Small   \n",
       "6985   98.1042            OUT027                       1985      Medium   \n",
       "8513   99.9042            OUT035                       2004       Small   \n",
       "\n",
       "     Outlet_Location_Type        Outlet_Type  Item_Outlet_Sales  \n",
       "5850               Tier 1  Supermarket Type1          1587.2672  \n",
       "5894               Tier 1      Grocery Store           198.4084  \n",
       "6282               Tier 1  Supermarket Type1          1091.2462  \n",
       "6985               Tier 3  Supermarket Type3          2777.7176  \n",
       "8513               Tier 2  Supermarket Type1           595.2252  "
      ]
     },
     "execution_count": 103,
     "metadata": {},
     "output_type": "execute_result"
    }
   ],
   "source": [
    "# Revisamos si cambiaron los valores faltantes de la columna Item_Weight para el Item_Identifier de prueba\n",
    "df[df['Item_Identifier'] == 'FDH31']"
   ]
  },
  {
   "cell_type": "code",
   "execution_count": 104,
   "metadata": {
    "colab": {
     "base_uri": "https://localhost:8080/"
    },
    "id": "Ytoiatu-S_i_",
    "outputId": "04565ffe-3ebe-489d-abec-117e89c486f4"
   },
   "outputs": [
    {
     "data": {
      "text/plain": [
       "['FDN52', 'FDK57', 'FDE52', 'FDQ60']"
      ]
     },
     "execution_count": 104,
     "metadata": {},
     "output_type": "execute_result"
    }
   ],
   "source": [
    "# Revisamos la lista nuevamente. Si no se completaron con los valores de los promedios calculados,\n",
    "# quiere decir que son items únicos y que no tienen peso registrado\n",
    "list_na=[]\n",
    "for i in range(len(df)):\n",
    "  if pd.isna(df.at[i, 'Item_Weight']) == True:\n",
    "    list_na.append(df.at[i, 'Item_Identifier'])\n",
    "list_na"
   ]
  },
  {
   "cell_type": "code",
   "execution_count": 105,
   "metadata": {
    "colab": {
     "base_uri": "https://localhost:8080/"
    },
    "id": "-CLaZRoKCA02",
    "outputId": "988b5b98-0cf3-4037-a640-cd97b73c5cf4"
   },
   "outputs": [
    {
     "data": {
      "text/plain": [
       "[927, 1922, 4187, 5022]"
      ]
     },
     "execution_count": 105,
     "metadata": {},
     "output_type": "execute_result"
    }
   ],
   "source": [
    "# Generamos una lista con los índices de estos Item Identifier con Item Weight NaN\n",
    "eliminar = []\n",
    "for i in list_na:\n",
    "  x = ((df[df['Item_Identifier'] == i]).index.to_list())[0]\n",
    "  eliminar.append(x)\n",
    "eliminar"
   ]
  },
  {
   "cell_type": "code",
   "execution_count": 106,
   "metadata": {
    "colab": {
     "base_uri": "https://localhost:8080/",
     "height": 261
    },
    "id": "if1AB1tRV--T",
    "outputId": "bd7dee58-4d14-466d-f473-fe328173e7cc"
   },
   "outputs": [],
   "source": [
    "# Chequeamos si los índices son correctos\n",
    "df_unicos = df[(df['Item_Identifier'] == 'FDN52')| (df['Item_Identifier'] == 'FDK57')| (df['Item_Identifier'] == 'FDE52')| (df['Item_Identifier'] == 'FDQ60')]"
   ]
  },
  {
   "cell_type": "code",
   "execution_count": 107,
   "metadata": {},
   "outputs": [
    {
     "data": {
      "text/html": [
       "<div>\n",
       "<style scoped>\n",
       "    .dataframe tbody tr th:only-of-type {\n",
       "        vertical-align: middle;\n",
       "    }\n",
       "\n",
       "    .dataframe tbody tr th {\n",
       "        vertical-align: top;\n",
       "    }\n",
       "\n",
       "    .dataframe thead th {\n",
       "        text-align: right;\n",
       "    }\n",
       "</style>\n",
       "<table border=\"1\" class=\"dataframe\">\n",
       "  <thead>\n",
       "    <tr style=\"text-align: right;\">\n",
       "      <th></th>\n",
       "      <th>Item_Identifier</th>\n",
       "      <th>Item_Weight</th>\n",
       "      <th>Item_Fat_Content</th>\n",
       "      <th>Item_Visibility</th>\n",
       "      <th>Item_Type</th>\n",
       "      <th>Item_MRP</th>\n",
       "      <th>Outlet_Identifier</th>\n",
       "      <th>Outlet_Establishment_Year</th>\n",
       "      <th>Outlet_Size</th>\n",
       "      <th>Outlet_Location_Type</th>\n",
       "      <th>Outlet_Type</th>\n",
       "      <th>Item_Outlet_Sales</th>\n",
       "    </tr>\n",
       "  </thead>\n",
       "  <tbody>\n",
       "    <tr>\n",
       "      <th>927</th>\n",
       "      <td>FDN52</td>\n",
       "      <td>NaN</td>\n",
       "      <td>Regular</td>\n",
       "      <td>0.130933</td>\n",
       "      <td>Frozen Foods</td>\n",
       "      <td>86.9198</td>\n",
       "      <td>OUT027</td>\n",
       "      <td>1985</td>\n",
       "      <td>Medium</td>\n",
       "      <td>Tier 3</td>\n",
       "      <td>Supermarket Type3</td>\n",
       "      <td>1569.9564</td>\n",
       "    </tr>\n",
       "    <tr>\n",
       "      <th>1922</th>\n",
       "      <td>FDK57</td>\n",
       "      <td>NaN</td>\n",
       "      <td>Low Fat</td>\n",
       "      <td>0.079904</td>\n",
       "      <td>Snack Foods</td>\n",
       "      <td>120.0440</td>\n",
       "      <td>OUT027</td>\n",
       "      <td>1985</td>\n",
       "      <td>Medium</td>\n",
       "      <td>Tier 3</td>\n",
       "      <td>Supermarket Type3</td>\n",
       "      <td>4434.2280</td>\n",
       "    </tr>\n",
       "    <tr>\n",
       "      <th>4187</th>\n",
       "      <td>FDE52</td>\n",
       "      <td>NaN</td>\n",
       "      <td>Regular</td>\n",
       "      <td>0.029742</td>\n",
       "      <td>Dairy</td>\n",
       "      <td>88.9514</td>\n",
       "      <td>OUT027</td>\n",
       "      <td>1985</td>\n",
       "      <td>Medium</td>\n",
       "      <td>Tier 3</td>\n",
       "      <td>Supermarket Type3</td>\n",
       "      <td>3453.5046</td>\n",
       "    </tr>\n",
       "    <tr>\n",
       "      <th>5022</th>\n",
       "      <td>FDQ60</td>\n",
       "      <td>NaN</td>\n",
       "      <td>Regular</td>\n",
       "      <td>0.191501</td>\n",
       "      <td>Baking Goods</td>\n",
       "      <td>121.2098</td>\n",
       "      <td>OUT019</td>\n",
       "      <td>1985</td>\n",
       "      <td>Small</td>\n",
       "      <td>Tier 1</td>\n",
       "      <td>Grocery Store</td>\n",
       "      <td>120.5098</td>\n",
       "    </tr>\n",
       "  </tbody>\n",
       "</table>\n",
       "</div>"
      ],
      "text/plain": [
       "     Item_Identifier  Item_Weight Item_Fat_Content  Item_Visibility  \\\n",
       "927            FDN52          NaN          Regular         0.130933   \n",
       "1922           FDK57          NaN          Low Fat         0.079904   \n",
       "4187           FDE52          NaN          Regular         0.029742   \n",
       "5022           FDQ60          NaN          Regular         0.191501   \n",
       "\n",
       "         Item_Type  Item_MRP Outlet_Identifier  Outlet_Establishment_Year  \\\n",
       "927   Frozen Foods   86.9198            OUT027                       1985   \n",
       "1922   Snack Foods  120.0440            OUT027                       1985   \n",
       "4187         Dairy   88.9514            OUT027                       1985   \n",
       "5022  Baking Goods  121.2098            OUT019                       1985   \n",
       "\n",
       "     Outlet_Size Outlet_Location_Type        Outlet_Type  Item_Outlet_Sales  \n",
       "927       Medium               Tier 3  Supermarket Type3          1569.9564  \n",
       "1922      Medium               Tier 3  Supermarket Type3          4434.2280  \n",
       "4187      Medium               Tier 3  Supermarket Type3          3453.5046  \n",
       "5022       Small               Tier 1      Grocery Store           120.5098  "
      ]
     },
     "execution_count": 107,
     "metadata": {},
     "output_type": "execute_result"
    }
   ],
   "source": [
    "df_unicos"
   ]
  },
  {
   "cell_type": "code",
   "execution_count": 108,
   "metadata": {
    "scrolled": false
   },
   "outputs": [
    {
     "data": {
      "text/plain": [
       "Outlet_Identifier  Outlet_Establishment_Year  Outlet_Size\n",
       "OUT027             1985                       Medium         3.453926e+06\n",
       "OUT035             2004                       Small          2.268123e+06\n",
       "OUT049             1999                       Medium         2.183970e+06\n",
       "OUT013             1987                       High           2.142664e+06\n",
       "OUT046             1997                       Small          2.118395e+06\n",
       "OUT018             2009                       Medium         1.851823e+06\n",
       "OUT019             1985                       Small          1.796941e+05\n",
       "Name: Item_Outlet_Sales, dtype: float64"
      ]
     },
     "execution_count": 108,
     "metadata": {},
     "output_type": "execute_result"
    }
   ],
   "source": [
    "#Analizaremos cual es el total de ventas de los diferentes outlets y cuanto afecta en particular\n",
    "# estos items dentro de el total de ventas del Outlet 027 y el Outlet 019\n",
    "(df.groupby(['Outlet_Identifier','Outlet_Establishment_Year', 'Outlet_Size'])['Item_Outlet_Sales']).sum().sort_values(ascending=False)"
   ]
  },
  {
   "cell_type": "code",
   "execution_count": 109,
   "metadata": {},
   "outputs": [],
   "source": [
    "# Quitamos la notación científica del resultado y almacenamos en una variable\n",
    "ventas_outlet = (df.groupby(['Outlet_Identifier'])['Item_Outlet_Sales']).sum().apply(lambda x: '%.2f' % x)"
   ]
  },
  {
   "cell_type": "code",
   "execution_count": 110,
   "metadata": {
    "scrolled": true
   },
   "outputs": [
    {
     "data": {
      "text/plain": [
       "Outlet_Identifier\n",
       "OUT027    3453926.05\n",
       "OUT035    2268122.94\n",
       "OUT049    2183969.81\n",
       "OUT017    2167465.29\n",
       "OUT013    2142663.58\n",
       "OUT046    2118395.17\n",
       "OUT045    2036725.48\n",
       "OUT010     188340.17\n",
       "OUT018    1851822.83\n",
       "OUT019     179694.09\n",
       "Name: Item_Outlet_Sales, dtype: object"
      ]
     },
     "execution_count": 110,
     "metadata": {},
     "output_type": "execute_result"
    }
   ],
   "source": [
    "ventas_outlet.sort_values(ascending=False)"
   ]
  },
  {
   "cell_type": "code",
   "execution_count": 111,
   "metadata": {},
   "outputs": [
    {
     "name": "stdout",
     "output_type": "stream",
     "text": [
      "El aporte de estos items en el total de ventas de la tienda OUT027 es de: 0.0027382430495291005\n",
      "El aporte de este item en el total de ventas de la tienda OUT019 es de: 0.000670638639256305\n"
     ]
    }
   ],
   "source": [
    "suma_OUT027 =df_unicos.loc[927,'Item_Outlet_Sales']+df_unicos.loc[1922,'Item_Outlet_Sales']+df_unicos.loc[4187,'Item_Outlet_Sales']\n",
    "\n",
    "print('El aporte de estos items en el total de ventas de la tienda OUT027 es de:',suma_OUT027/float(ventas_outlet['OUT027']))\n",
    "print('El aporte de este item en el total de ventas de la tienda OUT019 es de:',df_unicos.loc[5022,'Item_Outlet_Sales']/float(ventas_outlet['OUT019']))"
   ]
  },
  {
   "cell_type": "code",
   "execution_count": 112,
   "metadata": {
    "id": "hbtpZhw2XX49"
   },
   "outputs": [],
   "source": [
    "# Eliminamos esta filas de nuestro Data Frame\n",
    "# Se toma esta decisión ya que no tenemos nada que haga referencia a los pesos de estos productos y además porque\n",
    "# su aporte al total de ventas del Outlet es pequeño\n",
    "for i in eliminar:\n",
    "  df=df.drop(i)"
   ]
  },
  {
   "cell_type": "code",
   "execution_count": 113,
   "metadata": {
    "id": "4Sfyno8i7-a3"
   },
   "outputs": [],
   "source": [
    "# Reseteamos los índices para que no hayan saltos de números\n",
    "df.reset_index(drop=True, inplace=True)"
   ]
  },
  {
   "cell_type": "code",
   "execution_count": 114,
   "metadata": {},
   "outputs": [
    {
     "data": {
      "text/html": [
       "<div>\n",
       "<style scoped>\n",
       "    .dataframe tbody tr th:only-of-type {\n",
       "        vertical-align: middle;\n",
       "    }\n",
       "\n",
       "    .dataframe tbody tr th {\n",
       "        vertical-align: top;\n",
       "    }\n",
       "\n",
       "    .dataframe thead th {\n",
       "        text-align: right;\n",
       "    }\n",
       "</style>\n",
       "<table border=\"1\" class=\"dataframe\">\n",
       "  <thead>\n",
       "    <tr style=\"text-align: right;\">\n",
       "      <th></th>\n",
       "      <th>Item_Identifier</th>\n",
       "      <th>Item_Weight</th>\n",
       "      <th>Item_Fat_Content</th>\n",
       "      <th>Item_Visibility</th>\n",
       "      <th>Item_Type</th>\n",
       "      <th>Item_MRP</th>\n",
       "      <th>Outlet_Identifier</th>\n",
       "      <th>Outlet_Establishment_Year</th>\n",
       "      <th>Outlet_Size</th>\n",
       "      <th>Outlet_Location_Type</th>\n",
       "      <th>Outlet_Type</th>\n",
       "      <th>Item_Outlet_Sales</th>\n",
       "    </tr>\n",
       "  </thead>\n",
       "  <tbody>\n",
       "    <tr>\n",
       "      <th>0</th>\n",
       "      <td>FDA15</td>\n",
       "      <td>9.300</td>\n",
       "      <td>Low Fat</td>\n",
       "      <td>0.016047</td>\n",
       "      <td>Dairy</td>\n",
       "      <td>249.8092</td>\n",
       "      <td>OUT049</td>\n",
       "      <td>1999</td>\n",
       "      <td>Medium</td>\n",
       "      <td>Tier 1</td>\n",
       "      <td>Supermarket Type1</td>\n",
       "      <td>3735.1380</td>\n",
       "    </tr>\n",
       "    <tr>\n",
       "      <th>1</th>\n",
       "      <td>DRC01</td>\n",
       "      <td>5.920</td>\n",
       "      <td>Regular</td>\n",
       "      <td>0.019278</td>\n",
       "      <td>Soft Drinks</td>\n",
       "      <td>48.2692</td>\n",
       "      <td>OUT018</td>\n",
       "      <td>2009</td>\n",
       "      <td>Medium</td>\n",
       "      <td>Tier 3</td>\n",
       "      <td>Supermarket Type2</td>\n",
       "      <td>443.4228</td>\n",
       "    </tr>\n",
       "    <tr>\n",
       "      <th>2</th>\n",
       "      <td>FDN15</td>\n",
       "      <td>17.500</td>\n",
       "      <td>Low Fat</td>\n",
       "      <td>0.016760</td>\n",
       "      <td>Meat</td>\n",
       "      <td>141.6180</td>\n",
       "      <td>OUT049</td>\n",
       "      <td>1999</td>\n",
       "      <td>Medium</td>\n",
       "      <td>Tier 1</td>\n",
       "      <td>Supermarket Type1</td>\n",
       "      <td>2097.2700</td>\n",
       "    </tr>\n",
       "    <tr>\n",
       "      <th>3</th>\n",
       "      <td>FDX07</td>\n",
       "      <td>19.200</td>\n",
       "      <td>Regular</td>\n",
       "      <td>0.000000</td>\n",
       "      <td>Fruits and Vegetables</td>\n",
       "      <td>182.0950</td>\n",
       "      <td>OUT010</td>\n",
       "      <td>1998</td>\n",
       "      <td>NaN</td>\n",
       "      <td>Tier 3</td>\n",
       "      <td>Grocery Store</td>\n",
       "      <td>732.3800</td>\n",
       "    </tr>\n",
       "    <tr>\n",
       "      <th>4</th>\n",
       "      <td>NCD19</td>\n",
       "      <td>8.930</td>\n",
       "      <td>Low Fat</td>\n",
       "      <td>0.000000</td>\n",
       "      <td>Household</td>\n",
       "      <td>53.8614</td>\n",
       "      <td>OUT013</td>\n",
       "      <td>1987</td>\n",
       "      <td>High</td>\n",
       "      <td>Tier 3</td>\n",
       "      <td>Supermarket Type1</td>\n",
       "      <td>994.7052</td>\n",
       "    </tr>\n",
       "    <tr>\n",
       "      <th>...</th>\n",
       "      <td>...</td>\n",
       "      <td>...</td>\n",
       "      <td>...</td>\n",
       "      <td>...</td>\n",
       "      <td>...</td>\n",
       "      <td>...</td>\n",
       "      <td>...</td>\n",
       "      <td>...</td>\n",
       "      <td>...</td>\n",
       "      <td>...</td>\n",
       "      <td>...</td>\n",
       "      <td>...</td>\n",
       "    </tr>\n",
       "    <tr>\n",
       "      <th>8514</th>\n",
       "      <td>FDF22</td>\n",
       "      <td>6.865</td>\n",
       "      <td>Low Fat</td>\n",
       "      <td>0.056783</td>\n",
       "      <td>Snack Foods</td>\n",
       "      <td>214.5218</td>\n",
       "      <td>OUT013</td>\n",
       "      <td>1987</td>\n",
       "      <td>High</td>\n",
       "      <td>Tier 3</td>\n",
       "      <td>Supermarket Type1</td>\n",
       "      <td>2778.3834</td>\n",
       "    </tr>\n",
       "    <tr>\n",
       "      <th>8515</th>\n",
       "      <td>FDS36</td>\n",
       "      <td>8.380</td>\n",
       "      <td>Regular</td>\n",
       "      <td>0.046982</td>\n",
       "      <td>Baking Goods</td>\n",
       "      <td>108.1570</td>\n",
       "      <td>OUT045</td>\n",
       "      <td>2002</td>\n",
       "      <td>NaN</td>\n",
       "      <td>Tier 2</td>\n",
       "      <td>Supermarket Type1</td>\n",
       "      <td>549.2850</td>\n",
       "    </tr>\n",
       "    <tr>\n",
       "      <th>8516</th>\n",
       "      <td>NCJ29</td>\n",
       "      <td>10.600</td>\n",
       "      <td>Low Fat</td>\n",
       "      <td>0.035186</td>\n",
       "      <td>Health and Hygiene</td>\n",
       "      <td>85.1224</td>\n",
       "      <td>OUT035</td>\n",
       "      <td>2004</td>\n",
       "      <td>Small</td>\n",
       "      <td>Tier 2</td>\n",
       "      <td>Supermarket Type1</td>\n",
       "      <td>1193.1136</td>\n",
       "    </tr>\n",
       "    <tr>\n",
       "      <th>8517</th>\n",
       "      <td>FDN46</td>\n",
       "      <td>7.210</td>\n",
       "      <td>Regular</td>\n",
       "      <td>0.145221</td>\n",
       "      <td>Snack Foods</td>\n",
       "      <td>103.1332</td>\n",
       "      <td>OUT018</td>\n",
       "      <td>2009</td>\n",
       "      <td>Medium</td>\n",
       "      <td>Tier 3</td>\n",
       "      <td>Supermarket Type2</td>\n",
       "      <td>1845.5976</td>\n",
       "    </tr>\n",
       "    <tr>\n",
       "      <th>8518</th>\n",
       "      <td>DRG01</td>\n",
       "      <td>14.800</td>\n",
       "      <td>Low Fat</td>\n",
       "      <td>0.044878</td>\n",
       "      <td>Soft Drinks</td>\n",
       "      <td>75.4670</td>\n",
       "      <td>OUT046</td>\n",
       "      <td>1997</td>\n",
       "      <td>Small</td>\n",
       "      <td>Tier 1</td>\n",
       "      <td>Supermarket Type1</td>\n",
       "      <td>765.6700</td>\n",
       "    </tr>\n",
       "  </tbody>\n",
       "</table>\n",
       "<p>8519 rows × 12 columns</p>\n",
       "</div>"
      ],
      "text/plain": [
       "     Item_Identifier  Item_Weight Item_Fat_Content  Item_Visibility  \\\n",
       "0              FDA15        9.300          Low Fat         0.016047   \n",
       "1              DRC01        5.920          Regular         0.019278   \n",
       "2              FDN15       17.500          Low Fat         0.016760   \n",
       "3              FDX07       19.200          Regular         0.000000   \n",
       "4              NCD19        8.930          Low Fat         0.000000   \n",
       "...              ...          ...              ...              ...   \n",
       "8514           FDF22        6.865          Low Fat         0.056783   \n",
       "8515           FDS36        8.380          Regular         0.046982   \n",
       "8516           NCJ29       10.600          Low Fat         0.035186   \n",
       "8517           FDN46        7.210          Regular         0.145221   \n",
       "8518           DRG01       14.800          Low Fat         0.044878   \n",
       "\n",
       "                  Item_Type  Item_MRP Outlet_Identifier  \\\n",
       "0                     Dairy  249.8092            OUT049   \n",
       "1               Soft Drinks   48.2692            OUT018   \n",
       "2                      Meat  141.6180            OUT049   \n",
       "3     Fruits and Vegetables  182.0950            OUT010   \n",
       "4                 Household   53.8614            OUT013   \n",
       "...                     ...       ...               ...   \n",
       "8514            Snack Foods  214.5218            OUT013   \n",
       "8515           Baking Goods  108.1570            OUT045   \n",
       "8516     Health and Hygiene   85.1224            OUT035   \n",
       "8517            Snack Foods  103.1332            OUT018   \n",
       "8518            Soft Drinks   75.4670            OUT046   \n",
       "\n",
       "      Outlet_Establishment_Year Outlet_Size Outlet_Location_Type  \\\n",
       "0                          1999      Medium               Tier 1   \n",
       "1                          2009      Medium               Tier 3   \n",
       "2                          1999      Medium               Tier 1   \n",
       "3                          1998         NaN               Tier 3   \n",
       "4                          1987        High               Tier 3   \n",
       "...                         ...         ...                  ...   \n",
       "8514                       1987        High               Tier 3   \n",
       "8515                       2002         NaN               Tier 2   \n",
       "8516                       2004       Small               Tier 2   \n",
       "8517                       2009      Medium               Tier 3   \n",
       "8518                       1997       Small               Tier 1   \n",
       "\n",
       "            Outlet_Type  Item_Outlet_Sales  \n",
       "0     Supermarket Type1          3735.1380  \n",
       "1     Supermarket Type2           443.4228  \n",
       "2     Supermarket Type1          2097.2700  \n",
       "3         Grocery Store           732.3800  \n",
       "4     Supermarket Type1           994.7052  \n",
       "...                 ...                ...  \n",
       "8514  Supermarket Type1          2778.3834  \n",
       "8515  Supermarket Type1           549.2850  \n",
       "8516  Supermarket Type1          1193.1136  \n",
       "8517  Supermarket Type2          1845.5976  \n",
       "8518  Supermarket Type1           765.6700  \n",
       "\n",
       "[8519 rows x 12 columns]"
      ]
     },
     "execution_count": 114,
     "metadata": {},
     "output_type": "execute_result"
    }
   ],
   "source": [
    "df"
   ]
  },
  {
   "cell_type": "code",
   "execution_count": 115,
   "metadata": {
    "colab": {
     "base_uri": "https://localhost:8080/"
    },
    "id": "3Kv8NjC4FoKD",
    "outputId": "49f2ac8d-21b7-463f-963f-fae65277ca7b"
   },
   "outputs": [
    {
     "data": {
      "text/plain": [
       "(8519, 12)"
      ]
     },
     "execution_count": 115,
     "metadata": {},
     "output_type": "execute_result"
    }
   ],
   "source": [
    "df.shape"
   ]
  },
  {
   "cell_type": "code",
   "execution_count": 116,
   "metadata": {
    "colab": {
     "base_uri": "https://localhost:8080/"
    },
    "id": "B8ERLhEEdFgf",
    "outputId": "9755495f-7e35-4d60-c581-3b5930f1f675"
   },
   "outputs": [
    {
     "data": {
      "text/plain": [
       "Item_Identifier                 0\n",
       "Item_Weight                     0\n",
       "Item_Fat_Content                0\n",
       "Item_Visibility                 0\n",
       "Item_Type                       0\n",
       "Item_MRP                        0\n",
       "Outlet_Identifier               0\n",
       "Outlet_Establishment_Year       0\n",
       "Outlet_Size                  2410\n",
       "Outlet_Location_Type            0\n",
       "Outlet_Type                     0\n",
       "Item_Outlet_Sales               0\n",
       "dtype: int64"
      ]
     },
     "execution_count": 116,
     "metadata": {},
     "output_type": "execute_result"
    }
   ],
   "source": [
    "# Vemos como cambió la cantidad de elementos NaN\n",
    "df.isna().sum()"
   ]
  },
  {
   "cell_type": "code",
   "execution_count": 117,
   "metadata": {
    "colab": {
     "base_uri": "https://localhost:8080/"
    },
    "id": "guSMnLNpDGTd",
    "outputId": "81444497-694e-470b-ed0f-6833702b34e9"
   },
   "outputs": [
    {
     "data": {
      "text/html": [
       "<div>\n",
       "<style scoped>\n",
       "    .dataframe tbody tr th:only-of-type {\n",
       "        vertical-align: middle;\n",
       "    }\n",
       "\n",
       "    .dataframe tbody tr th {\n",
       "        vertical-align: top;\n",
       "    }\n",
       "\n",
       "    .dataframe thead th {\n",
       "        text-align: right;\n",
       "    }\n",
       "</style>\n",
       "<table border=\"1\" class=\"dataframe\">\n",
       "  <thead>\n",
       "    <tr style=\"text-align: right;\">\n",
       "      <th></th>\n",
       "      <th></th>\n",
       "      <th></th>\n",
       "      <th>count</th>\n",
       "      <th>unique</th>\n",
       "      <th>top</th>\n",
       "      <th>freq</th>\n",
       "    </tr>\n",
       "    <tr>\n",
       "      <th>Outlet_Identifier</th>\n",
       "      <th>Outlet_Type</th>\n",
       "      <th>Outlet_Location_Type</th>\n",
       "      <th></th>\n",
       "      <th></th>\n",
       "      <th></th>\n",
       "      <th></th>\n",
       "    </tr>\n",
       "  </thead>\n",
       "  <tbody>\n",
       "    <tr>\n",
       "      <th>OUT010</th>\n",
       "      <th>Grocery Store</th>\n",
       "      <th>Tier 3</th>\n",
       "      <td>0</td>\n",
       "      <td>0</td>\n",
       "      <td>NaN</td>\n",
       "      <td>NaN</td>\n",
       "    </tr>\n",
       "    <tr>\n",
       "      <th>OUT013</th>\n",
       "      <th>Supermarket Type1</th>\n",
       "      <th>Tier 3</th>\n",
       "      <td>932</td>\n",
       "      <td>1</td>\n",
       "      <td>High</td>\n",
       "      <td>932</td>\n",
       "    </tr>\n",
       "    <tr>\n",
       "      <th>OUT017</th>\n",
       "      <th>Supermarket Type1</th>\n",
       "      <th>Tier 2</th>\n",
       "      <td>0</td>\n",
       "      <td>0</td>\n",
       "      <td>NaN</td>\n",
       "      <td>NaN</td>\n",
       "    </tr>\n",
       "    <tr>\n",
       "      <th>OUT018</th>\n",
       "      <th>Supermarket Type2</th>\n",
       "      <th>Tier 3</th>\n",
       "      <td>928</td>\n",
       "      <td>1</td>\n",
       "      <td>Medium</td>\n",
       "      <td>928</td>\n",
       "    </tr>\n",
       "    <tr>\n",
       "      <th>OUT019</th>\n",
       "      <th>Grocery Store</th>\n",
       "      <th>Tier 1</th>\n",
       "      <td>527</td>\n",
       "      <td>1</td>\n",
       "      <td>Small</td>\n",
       "      <td>527</td>\n",
       "    </tr>\n",
       "    <tr>\n",
       "      <th>OUT027</th>\n",
       "      <th>Supermarket Type3</th>\n",
       "      <th>Tier 3</th>\n",
       "      <td>932</td>\n",
       "      <td>1</td>\n",
       "      <td>Medium</td>\n",
       "      <td>932</td>\n",
       "    </tr>\n",
       "    <tr>\n",
       "      <th>OUT035</th>\n",
       "      <th>Supermarket Type1</th>\n",
       "      <th>Tier 2</th>\n",
       "      <td>930</td>\n",
       "      <td>1</td>\n",
       "      <td>Small</td>\n",
       "      <td>930</td>\n",
       "    </tr>\n",
       "    <tr>\n",
       "      <th>OUT045</th>\n",
       "      <th>Supermarket Type1</th>\n",
       "      <th>Tier 2</th>\n",
       "      <td>0</td>\n",
       "      <td>0</td>\n",
       "      <td>NaN</td>\n",
       "      <td>NaN</td>\n",
       "    </tr>\n",
       "    <tr>\n",
       "      <th>OUT046</th>\n",
       "      <th>Supermarket Type1</th>\n",
       "      <th>Tier 1</th>\n",
       "      <td>930</td>\n",
       "      <td>1</td>\n",
       "      <td>Small</td>\n",
       "      <td>930</td>\n",
       "    </tr>\n",
       "    <tr>\n",
       "      <th>OUT049</th>\n",
       "      <th>Supermarket Type1</th>\n",
       "      <th>Tier 1</th>\n",
       "      <td>930</td>\n",
       "      <td>1</td>\n",
       "      <td>Medium</td>\n",
       "      <td>930</td>\n",
       "    </tr>\n",
       "  </tbody>\n",
       "</table>\n",
       "</div>"
      ],
      "text/plain": [
       "                                                         count unique     top  \\\n",
       "Outlet_Identifier Outlet_Type       Outlet_Location_Type                        \n",
       "OUT010            Grocery Store     Tier 3                   0      0     NaN   \n",
       "OUT013            Supermarket Type1 Tier 3                 932      1    High   \n",
       "OUT017            Supermarket Type1 Tier 2                   0      0     NaN   \n",
       "OUT018            Supermarket Type2 Tier 3                 928      1  Medium   \n",
       "OUT019            Grocery Store     Tier 1                 527      1   Small   \n",
       "OUT027            Supermarket Type3 Tier 3                 932      1  Medium   \n",
       "OUT035            Supermarket Type1 Tier 2                 930      1   Small   \n",
       "OUT045            Supermarket Type1 Tier 2                   0      0     NaN   \n",
       "OUT046            Supermarket Type1 Tier 1                 930      1   Small   \n",
       "OUT049            Supermarket Type1 Tier 1                 930      1  Medium   \n",
       "\n",
       "                                                         freq  \n",
       "Outlet_Identifier Outlet_Type       Outlet_Location_Type       \n",
       "OUT010            Grocery Store     Tier 3                NaN  \n",
       "OUT013            Supermarket Type1 Tier 3                932  \n",
       "OUT017            Supermarket Type1 Tier 2                NaN  \n",
       "OUT018            Supermarket Type2 Tier 3                928  \n",
       "OUT019            Grocery Store     Tier 1                527  \n",
       "OUT027            Supermarket Type3 Tier 3                932  \n",
       "OUT035            Supermarket Type1 Tier 2                930  \n",
       "OUT045            Supermarket Type1 Tier 2                NaN  \n",
       "OUT046            Supermarket Type1 Tier 1                930  \n",
       "OUT049            Supermarket Type1 Tier 1                930  "
      ]
     },
     "execution_count": 117,
     "metadata": {},
     "output_type": "execute_result"
    }
   ],
   "source": [
    "# Ahora continuamos con los Outlet Size con valores faltantes.\n",
    "# Aplicamos el mismo supuesto anterior, el de completar con el valor correspondiente al Outlet Identifier\n",
    "(df.groupby(['Outlet_Identifier', 'Outlet_Type', 'Outlet_Location_Type'])['Outlet_Size']).describe()"
   ]
  },
  {
   "cell_type": "code",
   "execution_count": 118,
   "metadata": {
    "id": "7QCqmcTo3F9W"
   },
   "outputs": [],
   "source": [
    "# Recorremos el Data Frame y reemplazamos el valor faltante por el tamañoo segun el outler identifier\n",
    "# Según la agrupación anterior, el unico antecedente del tamaño de un grocery store es small\n",
    "# Según la agrupación anterior, tenemos la coincidencia de que existen datos de que Supermarket Type1 en Tier 2\n",
    "# es small, por lo que usaremos este supuesto tambien para completar lo datos faltantes\n",
    "for i in range(len(df)):\n",
    "  if pd.isna(df.at[i, 'Outlet_Size']) == True:\n",
    "    if df.at[i, 'Outlet_Type'] == 'Grocery Store':\n",
    "      df.at[i, 'Outlet_Size'] = 'Small'\n",
    "    elif (df.at[i, 'Outlet_Type'] == 'Supermarket Type1'):\n",
    "      df.at[i,'Outlet_Size']= 'Small'"
   ]
  },
  {
   "cell_type": "code",
   "execution_count": 119,
   "metadata": {
    "colab": {
     "base_uri": "https://localhost:8080/"
    },
    "id": "Y8u6vd7N5CVP",
    "outputId": "b9e3b8f0-ec23-4b7f-88a5-7ba1f152a203"
   },
   "outputs": [
    {
     "data": {
      "text/html": [
       "<div>\n",
       "<style scoped>\n",
       "    .dataframe tbody tr th:only-of-type {\n",
       "        vertical-align: middle;\n",
       "    }\n",
       "\n",
       "    .dataframe tbody tr th {\n",
       "        vertical-align: top;\n",
       "    }\n",
       "\n",
       "    .dataframe thead th {\n",
       "        text-align: right;\n",
       "    }\n",
       "</style>\n",
       "<table border=\"1\" class=\"dataframe\">\n",
       "  <thead>\n",
       "    <tr style=\"text-align: right;\">\n",
       "      <th></th>\n",
       "      <th></th>\n",
       "      <th></th>\n",
       "      <th></th>\n",
       "      <th>count</th>\n",
       "      <th>unique</th>\n",
       "      <th>top</th>\n",
       "      <th>freq</th>\n",
       "    </tr>\n",
       "    <tr>\n",
       "      <th>Outlet_Identifier</th>\n",
       "      <th>Outlet_Type</th>\n",
       "      <th>Outlet_Location_Type</th>\n",
       "      <th>Outlet_Establishment_Year</th>\n",
       "      <th></th>\n",
       "      <th></th>\n",
       "      <th></th>\n",
       "      <th></th>\n",
       "    </tr>\n",
       "  </thead>\n",
       "  <tbody>\n",
       "    <tr>\n",
       "      <th>OUT010</th>\n",
       "      <th>Grocery Store</th>\n",
       "      <th>Tier 3</th>\n",
       "      <th>1998</th>\n",
       "      <td>555</td>\n",
       "      <td>1</td>\n",
       "      <td>Small</td>\n",
       "      <td>555</td>\n",
       "    </tr>\n",
       "    <tr>\n",
       "      <th>OUT013</th>\n",
       "      <th>Supermarket Type1</th>\n",
       "      <th>Tier 3</th>\n",
       "      <th>1987</th>\n",
       "      <td>932</td>\n",
       "      <td>1</td>\n",
       "      <td>High</td>\n",
       "      <td>932</td>\n",
       "    </tr>\n",
       "    <tr>\n",
       "      <th>OUT017</th>\n",
       "      <th>Supermarket Type1</th>\n",
       "      <th>Tier 2</th>\n",
       "      <th>2007</th>\n",
       "      <td>926</td>\n",
       "      <td>1</td>\n",
       "      <td>Small</td>\n",
       "      <td>926</td>\n",
       "    </tr>\n",
       "    <tr>\n",
       "      <th>OUT018</th>\n",
       "      <th>Supermarket Type2</th>\n",
       "      <th>Tier 3</th>\n",
       "      <th>2009</th>\n",
       "      <td>928</td>\n",
       "      <td>1</td>\n",
       "      <td>Medium</td>\n",
       "      <td>928</td>\n",
       "    </tr>\n",
       "    <tr>\n",
       "      <th>OUT019</th>\n",
       "      <th>Grocery Store</th>\n",
       "      <th>Tier 1</th>\n",
       "      <th>1985</th>\n",
       "      <td>527</td>\n",
       "      <td>1</td>\n",
       "      <td>Small</td>\n",
       "      <td>527</td>\n",
       "    </tr>\n",
       "    <tr>\n",
       "      <th>OUT027</th>\n",
       "      <th>Supermarket Type3</th>\n",
       "      <th>Tier 3</th>\n",
       "      <th>1985</th>\n",
       "      <td>932</td>\n",
       "      <td>1</td>\n",
       "      <td>Medium</td>\n",
       "      <td>932</td>\n",
       "    </tr>\n",
       "    <tr>\n",
       "      <th>OUT035</th>\n",
       "      <th>Supermarket Type1</th>\n",
       "      <th>Tier 2</th>\n",
       "      <th>2004</th>\n",
       "      <td>930</td>\n",
       "      <td>1</td>\n",
       "      <td>Small</td>\n",
       "      <td>930</td>\n",
       "    </tr>\n",
       "    <tr>\n",
       "      <th>OUT045</th>\n",
       "      <th>Supermarket Type1</th>\n",
       "      <th>Tier 2</th>\n",
       "      <th>2002</th>\n",
       "      <td>929</td>\n",
       "      <td>1</td>\n",
       "      <td>Small</td>\n",
       "      <td>929</td>\n",
       "    </tr>\n",
       "    <tr>\n",
       "      <th>OUT046</th>\n",
       "      <th>Supermarket Type1</th>\n",
       "      <th>Tier 1</th>\n",
       "      <th>1997</th>\n",
       "      <td>930</td>\n",
       "      <td>1</td>\n",
       "      <td>Small</td>\n",
       "      <td>930</td>\n",
       "    </tr>\n",
       "    <tr>\n",
       "      <th>OUT049</th>\n",
       "      <th>Supermarket Type1</th>\n",
       "      <th>Tier 1</th>\n",
       "      <th>1999</th>\n",
       "      <td>930</td>\n",
       "      <td>1</td>\n",
       "      <td>Medium</td>\n",
       "      <td>930</td>\n",
       "    </tr>\n",
       "  </tbody>\n",
       "</table>\n",
       "</div>"
      ],
      "text/plain": [
       "                                                                                   count  \\\n",
       "Outlet_Identifier Outlet_Type       Outlet_Location_Type Outlet_Establishment_Year         \n",
       "OUT010            Grocery Store     Tier 3               1998                        555   \n",
       "OUT013            Supermarket Type1 Tier 3               1987                        932   \n",
       "OUT017            Supermarket Type1 Tier 2               2007                        926   \n",
       "OUT018            Supermarket Type2 Tier 3               2009                        928   \n",
       "OUT019            Grocery Store     Tier 1               1985                        527   \n",
       "OUT027            Supermarket Type3 Tier 3               1985                        932   \n",
       "OUT035            Supermarket Type1 Tier 2               2004                        930   \n",
       "OUT045            Supermarket Type1 Tier 2               2002                        929   \n",
       "OUT046            Supermarket Type1 Tier 1               1997                        930   \n",
       "OUT049            Supermarket Type1 Tier 1               1999                        930   \n",
       "\n",
       "                                                                                   unique  \\\n",
       "Outlet_Identifier Outlet_Type       Outlet_Location_Type Outlet_Establishment_Year          \n",
       "OUT010            Grocery Store     Tier 3               1998                           1   \n",
       "OUT013            Supermarket Type1 Tier 3               1987                           1   \n",
       "OUT017            Supermarket Type1 Tier 2               2007                           1   \n",
       "OUT018            Supermarket Type2 Tier 3               2009                           1   \n",
       "OUT019            Grocery Store     Tier 1               1985                           1   \n",
       "OUT027            Supermarket Type3 Tier 3               1985                           1   \n",
       "OUT035            Supermarket Type1 Tier 2               2004                           1   \n",
       "OUT045            Supermarket Type1 Tier 2               2002                           1   \n",
       "OUT046            Supermarket Type1 Tier 1               1997                           1   \n",
       "OUT049            Supermarket Type1 Tier 1               1999                           1   \n",
       "\n",
       "                                                                                       top  \\\n",
       "Outlet_Identifier Outlet_Type       Outlet_Location_Type Outlet_Establishment_Year           \n",
       "OUT010            Grocery Store     Tier 3               1998                        Small   \n",
       "OUT013            Supermarket Type1 Tier 3               1987                         High   \n",
       "OUT017            Supermarket Type1 Tier 2               2007                        Small   \n",
       "OUT018            Supermarket Type2 Tier 3               2009                       Medium   \n",
       "OUT019            Grocery Store     Tier 1               1985                        Small   \n",
       "OUT027            Supermarket Type3 Tier 3               1985                       Medium   \n",
       "OUT035            Supermarket Type1 Tier 2               2004                        Small   \n",
       "OUT045            Supermarket Type1 Tier 2               2002                        Small   \n",
       "OUT046            Supermarket Type1 Tier 1               1997                        Small   \n",
       "OUT049            Supermarket Type1 Tier 1               1999                       Medium   \n",
       "\n",
       "                                                                                   freq  \n",
       "Outlet_Identifier Outlet_Type       Outlet_Location_Type Outlet_Establishment_Year       \n",
       "OUT010            Grocery Store     Tier 3               1998                       555  \n",
       "OUT013            Supermarket Type1 Tier 3               1987                       932  \n",
       "OUT017            Supermarket Type1 Tier 2               2007                       926  \n",
       "OUT018            Supermarket Type2 Tier 3               2009                       928  \n",
       "OUT019            Grocery Store     Tier 1               1985                       527  \n",
       "OUT027            Supermarket Type3 Tier 3               1985                       932  \n",
       "OUT035            Supermarket Type1 Tier 2               2004                       930  \n",
       "OUT045            Supermarket Type1 Tier 2               2002                       929  \n",
       "OUT046            Supermarket Type1 Tier 1               1997                       930  \n",
       "OUT049            Supermarket Type1 Tier 1               1999                       930  "
      ]
     },
     "execution_count": 119,
     "metadata": {},
     "output_type": "execute_result"
    }
   ],
   "source": [
    "(df.groupby(['Outlet_Identifier', 'Outlet_Type', 'Outlet_Location_Type', 'Outlet_Establishment_Year'])['Outlet_Size']).describe()"
   ]
  },
  {
   "cell_type": "code",
   "execution_count": 120,
   "metadata": {
    "colab": {
     "base_uri": "https://localhost:8080/"
    },
    "id": "bjFo5A0s6fEH",
    "outputId": "77ca2e8a-fc36-4a56-d4c4-d6834e0d2826"
   },
   "outputs": [
    {
     "data": {
      "text/plain": [
       "Item_Identifier              0\n",
       "Item_Weight                  0\n",
       "Item_Fat_Content             0\n",
       "Item_Visibility              0\n",
       "Item_Type                    0\n",
       "Item_MRP                     0\n",
       "Outlet_Identifier            0\n",
       "Outlet_Establishment_Year    0\n",
       "Outlet_Size                  0\n",
       "Outlet_Location_Type         0\n",
       "Outlet_Type                  0\n",
       "Item_Outlet_Sales            0\n",
       "dtype: int64"
      ]
     },
     "execution_count": 120,
     "metadata": {},
     "output_type": "execute_result"
    }
   ],
   "source": [
    "# Revisamos si quedan valores nulos\n",
    "df.isnull().sum()"
   ]
  },
  {
   "cell_type": "code",
   "execution_count": 121,
   "metadata": {},
   "outputs": [
    {
     "name": "stdout",
     "output_type": "stream",
     "text": [
      "**************************************************\n",
      "FDG33    10\n",
      "FDW13    10\n",
      "FDV60     9\n",
      "FDU12     9\n",
      "FDX20     9\n",
      "         ..\n",
      "DRF48     1\n",
      "FDY43     1\n",
      "FDC23     1\n",
      "FDO33     1\n",
      "FDT35     1\n",
      "Name: Item_Identifier, Length: 1555, dtype: int64\n",
      "**************************************************\n",
      "Low Fat    5088\n",
      "Regular    2886\n",
      "LF          316\n",
      "reg         117\n",
      "low fat     112\n",
      "Name: Item_Fat_Content, dtype: int64\n",
      "**************************************************\n",
      "Fruits and Vegetables    1232\n",
      "Snack Foods              1199\n",
      "Household                 910\n",
      "Frozen Foods              855\n",
      "Dairy                     681\n",
      "Canned                    649\n",
      "Baking Goods              647\n",
      "Health and Hygiene        520\n",
      "Soft Drinks               445\n",
      "Meat                      425\n",
      "Breads                    251\n",
      "Hard Drinks               214\n",
      "Others                    169\n",
      "Starchy Foods             148\n",
      "Breakfast                 110\n",
      "Seafood                    64\n",
      "Name: Item_Type, dtype: int64\n",
      "**************************************************\n",
      "OUT013    932\n",
      "OUT027    932\n",
      "OUT049    930\n",
      "OUT046    930\n",
      "OUT035    930\n",
      "OUT045    929\n",
      "OUT018    928\n",
      "OUT017    926\n",
      "OUT010    555\n",
      "OUT019    527\n",
      "Name: Outlet_Identifier, dtype: int64\n",
      "**************************************************\n",
      "Small     4797\n",
      "Medium    2790\n",
      "High       932\n",
      "Name: Outlet_Size, dtype: int64\n",
      "**************************************************\n",
      "Tier 3    3347\n",
      "Tier 2    2785\n",
      "Tier 1    2387\n",
      "Name: Outlet_Location_Type, dtype: int64\n",
      "**************************************************\n",
      "Supermarket Type1    5577\n",
      "Grocery Store        1082\n",
      "Supermarket Type3     932\n",
      "Supermarket Type2     928\n",
      "Name: Outlet_Type, dtype: int64\n"
     ]
    }
   ],
   "source": [
    "# Revisamos si en las columnas que tienen datos categóricos si hay que hacer alguna modificacion\n",
    "\n",
    "print('*'*50)\n",
    "print(df['Item_Identifier'].value_counts())\n",
    "print('*'*50)\n",
    "print(df['Item_Fat_Content'].value_counts())\n",
    "print('*'*50)\n",
    "print(df['Item_Type'].value_counts())\n",
    "print('*'*50)\n",
    "print(df['Outlet_Identifier'].value_counts())\n",
    "print('*'*50)\n",
    "print(df['Outlet_Size'].value_counts())\n",
    "print('*'*50)\n",
    "print(df['Outlet_Location_Type'].value_counts())\n",
    "print('*'*50)\n",
    "print(df['Outlet_Type'].value_counts())"
   ]
  },
  {
   "cell_type": "code",
   "execution_count": 122,
   "metadata": {},
   "outputs": [
    {
     "name": "stdout",
     "output_type": "stream",
     "text": [
      "Low Fat    5516\n",
      "Regular    3003\n",
      "Name: Item_Fat_Content, dtype: int64\n"
     ]
    }
   ],
   "source": [
    "# Corregiremos los valores de Item_Fat_Content\n",
    "# Low Fat = LF y low fat\n",
    "# Regular = reg\n",
    "for i in range(len(df)):\n",
    "    if (df.loc[i, 'Item_Fat_Content'] == 'LF') | (df.loc[i, 'Item_Fat_Content'] == 'low fat')  :\n",
    "      df.loc[i, 'Item_Fat_Content'] = 'Low Fat'\n",
    "    elif (df.loc[i, 'Item_Fat_Content'] == 'reg'):\n",
    "      df.loc[i,'Item_Fat_Content']= 'Regular'\n",
    "\n",
    "print(df['Item_Fat_Content'].value_counts())"
   ]
  },
  {
   "cell_type": "markdown",
   "metadata": {},
   "source": [
    "### Analisis Exploratorio de los Datos\n",
    "\n",
    "A continuación se presentan algunos gráficos, que nos pueden ayudar a entender como diferentes características del dataset pueden contribuir a las ventas"
   ]
  },
  {
   "cell_type": "code",
   "execution_count": 123,
   "metadata": {},
   "outputs": [
    {
     "data": {
      "text/html": [
       "<div>\n",
       "<style scoped>\n",
       "    .dataframe tbody tr th:only-of-type {\n",
       "        vertical-align: middle;\n",
       "    }\n",
       "\n",
       "    .dataframe tbody tr th {\n",
       "        vertical-align: top;\n",
       "    }\n",
       "\n",
       "    .dataframe thead th {\n",
       "        text-align: right;\n",
       "    }\n",
       "</style>\n",
       "<table border=\"1\" class=\"dataframe\">\n",
       "  <thead>\n",
       "    <tr style=\"text-align: right;\">\n",
       "      <th></th>\n",
       "      <th>Item_Weight</th>\n",
       "      <th>Item_Visibility</th>\n",
       "      <th>Item_MRP</th>\n",
       "      <th>Outlet_Establishment_Year</th>\n",
       "      <th>Item_Outlet_Sales</th>\n",
       "    </tr>\n",
       "  </thead>\n",
       "  <tbody>\n",
       "    <tr>\n",
       "      <th>count</th>\n",
       "      <td>8519.000000</td>\n",
       "      <td>8519.000000</td>\n",
       "      <td>8519.000000</td>\n",
       "      <td>8519.000000</td>\n",
       "      <td>8519.000000</td>\n",
       "    </tr>\n",
       "    <tr>\n",
       "      <th>mean</th>\n",
       "      <td>12.875420</td>\n",
       "      <td>0.066112</td>\n",
       "      <td>141.010019</td>\n",
       "      <td>1997.837892</td>\n",
       "      <td>2181.188779</td>\n",
       "    </tr>\n",
       "    <tr>\n",
       "      <th>std</th>\n",
       "      <td>4.646098</td>\n",
       "      <td>0.051586</td>\n",
       "      <td>62.283594</td>\n",
       "      <td>8.369105</td>\n",
       "      <td>1706.511093</td>\n",
       "    </tr>\n",
       "    <tr>\n",
       "      <th>min</th>\n",
       "      <td>4.555000</td>\n",
       "      <td>0.000000</td>\n",
       "      <td>31.290000</td>\n",
       "      <td>1985.000000</td>\n",
       "      <td>33.290000</td>\n",
       "    </tr>\n",
       "    <tr>\n",
       "      <th>25%</th>\n",
       "      <td>8.785000</td>\n",
       "      <td>0.026983</td>\n",
       "      <td>93.844900</td>\n",
       "      <td>1987.000000</td>\n",
       "      <td>834.247400</td>\n",
       "    </tr>\n",
       "    <tr>\n",
       "      <th>50%</th>\n",
       "      <td>12.650000</td>\n",
       "      <td>0.053925</td>\n",
       "      <td>143.047000</td>\n",
       "      <td>1999.000000</td>\n",
       "      <td>1794.331000</td>\n",
       "    </tr>\n",
       "    <tr>\n",
       "      <th>75%</th>\n",
       "      <td>16.850000</td>\n",
       "      <td>0.094558</td>\n",
       "      <td>185.676600</td>\n",
       "      <td>2004.000000</td>\n",
       "      <td>3100.630600</td>\n",
       "    </tr>\n",
       "    <tr>\n",
       "      <th>max</th>\n",
       "      <td>21.350000</td>\n",
       "      <td>0.328391</td>\n",
       "      <td>266.888400</td>\n",
       "      <td>2009.000000</td>\n",
       "      <td>13086.964800</td>\n",
       "    </tr>\n",
       "  </tbody>\n",
       "</table>\n",
       "</div>"
      ],
      "text/plain": [
       "       Item_Weight  Item_Visibility     Item_MRP  Outlet_Establishment_Year  \\\n",
       "count  8519.000000      8519.000000  8519.000000                8519.000000   \n",
       "mean     12.875420         0.066112   141.010019                1997.837892   \n",
       "std       4.646098         0.051586    62.283594                   8.369105   \n",
       "min       4.555000         0.000000    31.290000                1985.000000   \n",
       "25%       8.785000         0.026983    93.844900                1987.000000   \n",
       "50%      12.650000         0.053925   143.047000                1999.000000   \n",
       "75%      16.850000         0.094558   185.676600                2004.000000   \n",
       "max      21.350000         0.328391   266.888400                2009.000000   \n",
       "\n",
       "       Item_Outlet_Sales  \n",
       "count        8519.000000  \n",
       "mean         2181.188779  \n",
       "std          1706.511093  \n",
       "min            33.290000  \n",
       "25%           834.247400  \n",
       "50%          1794.331000  \n",
       "75%          3100.630600  \n",
       "max         13086.964800  "
      ]
     },
     "execution_count": 123,
     "metadata": {},
     "output_type": "execute_result"
    }
   ],
   "source": [
    "df.describe()"
   ]
  },
  {
   "cell_type": "code",
   "execution_count": 124,
   "metadata": {},
   "outputs": [
    {
     "data": {
      "image/png": "[encoded data removed]",
      "text/plain": [
       "<Figure size 720x360 with 1 Axes>"
      ]
     },
     "metadata": {},
     "output_type": "display_data"
    }
   ],
   "source": [
    "# Graficamos\n",
    "plt.style.use('ggplot')\n",
    "plt.figure(figsize=(10,5))\n",
    "plt.title('Ventas por Outlet en USD')\n",
    "sns.barplot(x= df.groupby(['Outlet_Identifier'])['Item_Outlet_Sales'].sum().index, y = df.groupby(['Outlet_Identifier'])['Item_Outlet_Sales'].sum().values)\n",
    "plt.xticks(rotation = 45)\n",
    "plt.ylabel('Total Ventas');\n",
    "plt.xlabel('Outlets Identifiers');\n",
    "plt.tight_layout();"
   ]
  },
  {
   "cell_type": "markdown",
   "metadata": {},
   "source": [
    "Tal como vimos anteriormente, la tienda que más ventas genera es OUT027"
   ]
  },
  {
   "cell_type": "code",
   "execution_count": 125,
   "metadata": {},
   "outputs": [
    {
     "data": {
      "image/png": "[encoded data removed]",
      "text/plain": [
       "<Figure size 720x360 with 1 Axes>"
      ]
     },
     "metadata": {},
     "output_type": "display_data"
    }
   ],
   "source": [
    "# Graficamos\n",
    "plt.style.use('ggplot')\n",
    "plt.figure(figsize=(10,5))\n",
    "plt.title('Ventas por Item Type en USD')\n",
    "sns.barplot(x= df.groupby(['Item_Type'])['Item_Outlet_Sales'].sum().index, y = df.groupby(['Item_Type'])['Item_Outlet_Sales'].sum().values)\n",
    "plt.xticks(rotation = 45)\n",
    "plt.ylabel('Total Ventas');\n",
    "plt.xlabel('Item Types');\n",
    "plt.tight_layout();"
   ]
  },
  {
   "cell_type": "markdown",
   "metadata": {},
   "source": [
    "A nivel global de tiendas, lo que concentra la mayoría de las ventas son los Snacks y la comida congelada"
   ]
  },
  {
   "cell_type": "code",
   "execution_count": 126,
   "metadata": {},
   "outputs": [
    {
     "data": {
      "image/png": "[encoded data removed]",
      "text/plain": [
       "<Figure size 720x360 with 1 Axes>"
      ]
     },
     "metadata": {},
     "output_type": "display_data"
    }
   ],
   "source": [
    "# Graficamos\n",
    "plt.style.use('ggplot')\n",
    "plt.figure(figsize=(10,5))\n",
    "plt.title('Ventas de Items por Item Fat Content en USD')\n",
    "sns.barplot(x= df.groupby(['Item_Fat_Content'])['Item_Outlet_Sales'].sum().index, y = df.groupby(['Item_Fat_Content'])['Item_Outlet_Sales'].sum().values)\n",
    "plt.xticks(rotation = 45)\n",
    "plt.ylabel('Total Ventas');\n",
    "plt.xlabel('Item Fat Content');\n",
    "plt.tight_layout();"
   ]
  },
  {
   "cell_type": "markdown",
   "metadata": {},
   "source": [
    "Por otro lado, los productos bajos en grasa concentran mayor cantidad de ventas que los productos regulares, a nivel global de todas las tiendas."
   ]
  },
  {
   "cell_type": "markdown",
   "metadata": {},
   "source": [
    "### Histogramas y Box-Plots"
   ]
  },
  {
   "cell_type": "code",
   "execution_count": 127,
   "metadata": {},
   "outputs": [
    {
     "data": {
      "image/png": "[encoded data removed]",
      "text/plain": [
       "<Figure size 1152x1800 with 8 Axes>"
      ]
     },
     "metadata": {},
     "output_type": "display_data"
    }
   ],
   "source": [
    "fig, axs = plt.subplots(4, 2, figsize=(16, 25))\n",
    "plt.suptitle('Histogramas y Box-Plot de variables numéricas', size=20, y=0.94)\n",
    "sns.histplot(data=df, x=\"Item_Weight\", ax=axs[0,0], color='red')\n",
    "sns.boxplot(data=df, x=\"Item_Weight\", ax=axs[0,1], color='red')\n",
    "sns.histplot(data=df, x=\"Item_Visibility\", color='darkblue', ax=axs[1, 0])\n",
    "sns.boxplot(data=df, x=\"Item_Visibility\", color='darkblue', ax=axs[1, 1])\n",
    "sns.histplot(data=df, x=\"Item_MRP\", color='darkgreen' , ax=axs[2, 0])\n",
    "sns.boxplot(data=df, x=\"Item_MRP\", color='darkgreen' , ax=axs[2, 1])\n",
    "sns.histplot(data=df, x=\"Item_Outlet_Sales\", color='cyan', ax=axs[3, 0]);\n",
    "sns.boxplot(data=df, x=\"Item_Outlet_Sales\", color='cyan', ax=axs[3, 1]);\n",
    "\n"
   ]
  },
  {
   "cell_type": "markdown",
   "metadata": {},
   "source": [
    "De los anteriores histogramas y boxplot se puede ver que Item_Visibility como Item_Outlet_Sales son sesgadas y presentan outliers que serían interesantes de tratar a futuro, identificando las medianas de estos datos y viendo con la ayuda de un experto en tema si corresponde el reemplazo de estos puntos outliers por la mediana de estos.\n",
    "\n",
    "El resto de las características analizadas no presentan outliers y se distrubiyen de una forma que podría considerarse normal."
   ]
  },
  {
   "cell_type": "code",
   "execution_count": 128,
   "metadata": {},
   "outputs": [
    {
     "data": {
      "image/png": "[encoded data removed]",
      "text/plain": [
       "<Figure size 1080x720 with 2 Axes>"
      ]
     },
     "metadata": {},
     "output_type": "display_data"
    }
   ],
   "source": [
    "plt.figure(figsize=(15,10))\n",
    "plt.suptitle('Matriz de Correlación', size=20, y=0.94)\n",
    "sns.heatmap(df.corr(), annot=True, cmap='rocket');"
   ]
  },
  {
   "cell_type": "markdown",
   "metadata": {},
   "source": [
    "Con la matriz de correlación anterior, a priori podemos ver que la correlación más significativa es Item_MRP con Item_Outlet_Sales, que es de 0.57. Esto en todo caso, este valor representa solamente una relación lineal moderada entre ambas variables"
   ]
  },
  {
   "cell_type": "markdown",
   "metadata": {},
   "source": [
    "### Modelos de Regresion"
   ]
  },
  {
   "cell_type": "code",
   "execution_count": 129,
   "metadata": {},
   "outputs": [],
   "source": [
    "from sklearn.neighbors import KNeighborsRegressor\n",
    "from sklearn.linear_model import LinearRegression\n",
    "from sklearn.preprocessing import StandardScaler, LabelEncoder, OneHotEncoder\n",
    "from sklearn.model_selection import train_test_split\n",
    "from sklearn.ensemble import RandomForestRegressor\n",
    "from sklearn.metrics import mean_squared_error\n"
   ]
  },
  {
   "cell_type": "code",
   "execution_count": 130,
   "metadata": {},
   "outputs": [],
   "source": [
    "# Transformamos las características de categorías en numéricas\n",
    "#Item_Identifier, Item_Fat_Content, Item_Type, Outlet_Identifier, Outlet_Size, Outlet_Location_Type, Outlet_Type\n",
    "\n",
    "le = LabelEncoder()\n",
    "df['Item_Identifier'] = le.fit_transform(df['Item_Identifier'])\n",
    "df['Item_Fat_Content'] = le.fit_transform(df['Item_Fat_Content'])\n",
    "df['Item_Type'] = le.fit_transform(df['Item_Type'])\n",
    "df['Outlet_Identifier'] = le.fit_transform(df['Outlet_Identifier'])\n",
    "df['Outlet_Size'] = le.fit_transform(df['Outlet_Size'])\n",
    "df['Outlet_Location_Type'] = le.fit_transform(df['Outlet_Location_Type'])\n",
    "df['Outlet_Type'] = le.fit_transform(df['Outlet_Type'])\n"
   ]
  },
  {
   "cell_type": "code",
   "execution_count": 131,
   "metadata": {},
   "outputs": [
    {
     "data": {
      "text/html": [
       "<div>\n",
       "<style scoped>\n",
       "    .dataframe tbody tr th:only-of-type {\n",
       "        vertical-align: middle;\n",
       "    }\n",
       "\n",
       "    .dataframe tbody tr th {\n",
       "        vertical-align: top;\n",
       "    }\n",
       "\n",
       "    .dataframe thead th {\n",
       "        text-align: right;\n",
       "    }\n",
       "</style>\n",
       "<table border=\"1\" class=\"dataframe\">\n",
       "  <thead>\n",
       "    <tr style=\"text-align: right;\">\n",
       "      <th></th>\n",
       "      <th>Item_Identifier</th>\n",
       "      <th>Item_Weight</th>\n",
       "      <th>Item_Fat_Content</th>\n",
       "      <th>Item_Visibility</th>\n",
       "      <th>Item_Type</th>\n",
       "      <th>Item_MRP</th>\n",
       "      <th>Outlet_Identifier</th>\n",
       "      <th>Outlet_Establishment_Year</th>\n",
       "      <th>Outlet_Size</th>\n",
       "      <th>Outlet_Location_Type</th>\n",
       "      <th>Outlet_Type</th>\n",
       "      <th>Item_Outlet_Sales</th>\n",
       "    </tr>\n",
       "  </thead>\n",
       "  <tbody>\n",
       "    <tr>\n",
       "      <th>0</th>\n",
       "      <td>156</td>\n",
       "      <td>9.300</td>\n",
       "      <td>0</td>\n",
       "      <td>0.016047</td>\n",
       "      <td>4</td>\n",
       "      <td>249.8092</td>\n",
       "      <td>9</td>\n",
       "      <td>1999</td>\n",
       "      <td>1</td>\n",
       "      <td>0</td>\n",
       "      <td>1</td>\n",
       "      <td>3735.1380</td>\n",
       "    </tr>\n",
       "    <tr>\n",
       "      <th>1</th>\n",
       "      <td>8</td>\n",
       "      <td>5.920</td>\n",
       "      <td>1</td>\n",
       "      <td>0.019278</td>\n",
       "      <td>14</td>\n",
       "      <td>48.2692</td>\n",
       "      <td>3</td>\n",
       "      <td>2009</td>\n",
       "      <td>1</td>\n",
       "      <td>2</td>\n",
       "      <td>2</td>\n",
       "      <td>443.4228</td>\n",
       "    </tr>\n",
       "    <tr>\n",
       "      <th>2</th>\n",
       "      <td>660</td>\n",
       "      <td>17.500</td>\n",
       "      <td>0</td>\n",
       "      <td>0.016760</td>\n",
       "      <td>10</td>\n",
       "      <td>141.6180</td>\n",
       "      <td>9</td>\n",
       "      <td>1999</td>\n",
       "      <td>1</td>\n",
       "      <td>0</td>\n",
       "      <td>1</td>\n",
       "      <td>2097.2700</td>\n",
       "    </tr>\n",
       "    <tr>\n",
       "      <th>3</th>\n",
       "      <td>1117</td>\n",
       "      <td>19.200</td>\n",
       "      <td>1</td>\n",
       "      <td>0.000000</td>\n",
       "      <td>6</td>\n",
       "      <td>182.0950</td>\n",
       "      <td>0</td>\n",
       "      <td>1998</td>\n",
       "      <td>2</td>\n",
       "      <td>2</td>\n",
       "      <td>0</td>\n",
       "      <td>732.3800</td>\n",
       "    </tr>\n",
       "    <tr>\n",
       "      <th>4</th>\n",
       "      <td>1293</td>\n",
       "      <td>8.930</td>\n",
       "      <td>0</td>\n",
       "      <td>0.000000</td>\n",
       "      <td>9</td>\n",
       "      <td>53.8614</td>\n",
       "      <td>1</td>\n",
       "      <td>1987</td>\n",
       "      <td>0</td>\n",
       "      <td>2</td>\n",
       "      <td>1</td>\n",
       "      <td>994.7052</td>\n",
       "    </tr>\n",
       "    <tr>\n",
       "      <th>...</th>\n",
       "      <td>...</td>\n",
       "      <td>...</td>\n",
       "      <td>...</td>\n",
       "      <td>...</td>\n",
       "      <td>...</td>\n",
       "      <td>...</td>\n",
       "      <td>...</td>\n",
       "      <td>...</td>\n",
       "      <td>...</td>\n",
       "      <td>...</td>\n",
       "      <td>...</td>\n",
       "      <td>...</td>\n",
       "    </tr>\n",
       "    <tr>\n",
       "      <th>8514</th>\n",
       "      <td>369</td>\n",
       "      <td>6.865</td>\n",
       "      <td>0</td>\n",
       "      <td>0.056783</td>\n",
       "      <td>13</td>\n",
       "      <td>214.5218</td>\n",
       "      <td>1</td>\n",
       "      <td>1987</td>\n",
       "      <td>0</td>\n",
       "      <td>2</td>\n",
       "      <td>1</td>\n",
       "      <td>2778.3834</td>\n",
       "    </tr>\n",
       "    <tr>\n",
       "      <th>8515</th>\n",
       "      <td>893</td>\n",
       "      <td>8.380</td>\n",
       "      <td>1</td>\n",
       "      <td>0.046982</td>\n",
       "      <td>0</td>\n",
       "      <td>108.1570</td>\n",
       "      <td>7</td>\n",
       "      <td>2002</td>\n",
       "      <td>2</td>\n",
       "      <td>1</td>\n",
       "      <td>1</td>\n",
       "      <td>549.2850</td>\n",
       "    </tr>\n",
       "    <tr>\n",
       "      <th>8516</th>\n",
       "      <td>1353</td>\n",
       "      <td>10.600</td>\n",
       "      <td>0</td>\n",
       "      <td>0.035186</td>\n",
       "      <td>8</td>\n",
       "      <td>85.1224</td>\n",
       "      <td>6</td>\n",
       "      <td>2004</td>\n",
       "      <td>2</td>\n",
       "      <td>1</td>\n",
       "      <td>1</td>\n",
       "      <td>1193.1136</td>\n",
       "    </tr>\n",
       "    <tr>\n",
       "      <th>8517</th>\n",
       "      <td>679</td>\n",
       "      <td>7.210</td>\n",
       "      <td>1</td>\n",
       "      <td>0.145221</td>\n",
       "      <td>13</td>\n",
       "      <td>103.1332</td>\n",
       "      <td>3</td>\n",
       "      <td>2009</td>\n",
       "      <td>1</td>\n",
       "      <td>2</td>\n",
       "      <td>2</td>\n",
       "      <td>1845.5976</td>\n",
       "    </tr>\n",
       "    <tr>\n",
       "      <th>8518</th>\n",
       "      <td>50</td>\n",
       "      <td>14.800</td>\n",
       "      <td>0</td>\n",
       "      <td>0.044878</td>\n",
       "      <td>14</td>\n",
       "      <td>75.4670</td>\n",
       "      <td>8</td>\n",
       "      <td>1997</td>\n",
       "      <td>2</td>\n",
       "      <td>0</td>\n",
       "      <td>1</td>\n",
       "      <td>765.6700</td>\n",
       "    </tr>\n",
       "  </tbody>\n",
       "</table>\n",
       "<p>8519 rows × 12 columns</p>\n",
       "</div>"
      ],
      "text/plain": [
       "      Item_Identifier  Item_Weight  Item_Fat_Content  Item_Visibility  \\\n",
       "0                 156        9.300                 0         0.016047   \n",
       "1                   8        5.920                 1         0.019278   \n",
       "2                 660       17.500                 0         0.016760   \n",
       "3                1117       19.200                 1         0.000000   \n",
       "4                1293        8.930                 0         0.000000   \n",
       "...               ...          ...               ...              ...   \n",
       "8514              369        6.865                 0         0.056783   \n",
       "8515              893        8.380                 1         0.046982   \n",
       "8516             1353       10.600                 0         0.035186   \n",
       "8517              679        7.210                 1         0.145221   \n",
       "8518               50       14.800                 0         0.044878   \n",
       "\n",
       "      Item_Type  Item_MRP  Outlet_Identifier  Outlet_Establishment_Year  \\\n",
       "0             4  249.8092                  9                       1999   \n",
       "1            14   48.2692                  3                       2009   \n",
       "2            10  141.6180                  9                       1999   \n",
       "3             6  182.0950                  0                       1998   \n",
       "4             9   53.8614                  1                       1987   \n",
       "...         ...       ...                ...                        ...   \n",
       "8514         13  214.5218                  1                       1987   \n",
       "8515          0  108.1570                  7                       2002   \n",
       "8516          8   85.1224                  6                       2004   \n",
       "8517         13  103.1332                  3                       2009   \n",
       "8518         14   75.4670                  8                       1997   \n",
       "\n",
       "      Outlet_Size  Outlet_Location_Type  Outlet_Type  Item_Outlet_Sales  \n",
       "0               1                     0            1          3735.1380  \n",
       "1               1                     2            2           443.4228  \n",
       "2               1                     0            1          2097.2700  \n",
       "3               2                     2            0           732.3800  \n",
       "4               0                     2            1           994.7052  \n",
       "...           ...                   ...          ...                ...  \n",
       "8514            0                     2            1          2778.3834  \n",
       "8515            2                     1            1           549.2850  \n",
       "8516            2                     1            1          1193.1136  \n",
       "8517            1                     2            2          1845.5976  \n",
       "8518            2                     0            1           765.6700  \n",
       "\n",
       "[8519 rows x 12 columns]"
      ]
     },
     "execution_count": 131,
     "metadata": {},
     "output_type": "execute_result"
    }
   ],
   "source": [
    "#df.reset_index(drop=True, inplace=True)\n",
    "df"
   ]
  },
  {
   "cell_type": "code",
   "execution_count": 132,
   "metadata": {},
   "outputs": [],
   "source": [
    "# Generamos la matriz de características y el vector objetivo\n",
    "\n",
    "X = df.loc[:, df.columns != 'Item_Outlet_Sales']"
   ]
  },
  {
   "cell_type": "code",
   "execution_count": 133,
   "metadata": {},
   "outputs": [
    {
     "data": {
      "text/html": [
       "<div>\n",
       "<style scoped>\n",
       "    .dataframe tbody tr th:only-of-type {\n",
       "        vertical-align: middle;\n",
       "    }\n",
       "\n",
       "    .dataframe tbody tr th {\n",
       "        vertical-align: top;\n",
       "    }\n",
       "\n",
       "    .dataframe thead th {\n",
       "        text-align: right;\n",
       "    }\n",
       "</style>\n",
       "<table border=\"1\" class=\"dataframe\">\n",
       "  <thead>\n",
       "    <tr style=\"text-align: right;\">\n",
       "      <th></th>\n",
       "      <th>Item_Identifier</th>\n",
       "      <th>Item_Weight</th>\n",
       "      <th>Item_Fat_Content</th>\n",
       "      <th>Item_Visibility</th>\n",
       "      <th>Item_Type</th>\n",
       "      <th>Item_MRP</th>\n",
       "      <th>Outlet_Identifier</th>\n",
       "      <th>Outlet_Establishment_Year</th>\n",
       "      <th>Outlet_Size</th>\n",
       "      <th>Outlet_Location_Type</th>\n",
       "      <th>Outlet_Type</th>\n",
       "    </tr>\n",
       "  </thead>\n",
       "  <tbody>\n",
       "    <tr>\n",
       "      <th>0</th>\n",
       "      <td>156</td>\n",
       "      <td>9.300</td>\n",
       "      <td>0</td>\n",
       "      <td>0.016047</td>\n",
       "      <td>4</td>\n",
       "      <td>249.8092</td>\n",
       "      <td>9</td>\n",
       "      <td>1999</td>\n",
       "      <td>1</td>\n",
       "      <td>0</td>\n",
       "      <td>1</td>\n",
       "    </tr>\n",
       "    <tr>\n",
       "      <th>1</th>\n",
       "      <td>8</td>\n",
       "      <td>5.920</td>\n",
       "      <td>1</td>\n",
       "      <td>0.019278</td>\n",
       "      <td>14</td>\n",
       "      <td>48.2692</td>\n",
       "      <td>3</td>\n",
       "      <td>2009</td>\n",
       "      <td>1</td>\n",
       "      <td>2</td>\n",
       "      <td>2</td>\n",
       "    </tr>\n",
       "    <tr>\n",
       "      <th>2</th>\n",
       "      <td>660</td>\n",
       "      <td>17.500</td>\n",
       "      <td>0</td>\n",
       "      <td>0.016760</td>\n",
       "      <td>10</td>\n",
       "      <td>141.6180</td>\n",
       "      <td>9</td>\n",
       "      <td>1999</td>\n",
       "      <td>1</td>\n",
       "      <td>0</td>\n",
       "      <td>1</td>\n",
       "    </tr>\n",
       "    <tr>\n",
       "      <th>3</th>\n",
       "      <td>1117</td>\n",
       "      <td>19.200</td>\n",
       "      <td>1</td>\n",
       "      <td>0.000000</td>\n",
       "      <td>6</td>\n",
       "      <td>182.0950</td>\n",
       "      <td>0</td>\n",
       "      <td>1998</td>\n",
       "      <td>2</td>\n",
       "      <td>2</td>\n",
       "      <td>0</td>\n",
       "    </tr>\n",
       "    <tr>\n",
       "      <th>4</th>\n",
       "      <td>1293</td>\n",
       "      <td>8.930</td>\n",
       "      <td>0</td>\n",
       "      <td>0.000000</td>\n",
       "      <td>9</td>\n",
       "      <td>53.8614</td>\n",
       "      <td>1</td>\n",
       "      <td>1987</td>\n",
       "      <td>0</td>\n",
       "      <td>2</td>\n",
       "      <td>1</td>\n",
       "    </tr>\n",
       "    <tr>\n",
       "      <th>...</th>\n",
       "      <td>...</td>\n",
       "      <td>...</td>\n",
       "      <td>...</td>\n",
       "      <td>...</td>\n",
       "      <td>...</td>\n",
       "      <td>...</td>\n",
       "      <td>...</td>\n",
       "      <td>...</td>\n",
       "      <td>...</td>\n",
       "      <td>...</td>\n",
       "      <td>...</td>\n",
       "    </tr>\n",
       "    <tr>\n",
       "      <th>8514</th>\n",
       "      <td>369</td>\n",
       "      <td>6.865</td>\n",
       "      <td>0</td>\n",
       "      <td>0.056783</td>\n",
       "      <td>13</td>\n",
       "      <td>214.5218</td>\n",
       "      <td>1</td>\n",
       "      <td>1987</td>\n",
       "      <td>0</td>\n",
       "      <td>2</td>\n",
       "      <td>1</td>\n",
       "    </tr>\n",
       "    <tr>\n",
       "      <th>8515</th>\n",
       "      <td>893</td>\n",
       "      <td>8.380</td>\n",
       "      <td>1</td>\n",
       "      <td>0.046982</td>\n",
       "      <td>0</td>\n",
       "      <td>108.1570</td>\n",
       "      <td>7</td>\n",
       "      <td>2002</td>\n",
       "      <td>2</td>\n",
       "      <td>1</td>\n",
       "      <td>1</td>\n",
       "    </tr>\n",
       "    <tr>\n",
       "      <th>8516</th>\n",
       "      <td>1353</td>\n",
       "      <td>10.600</td>\n",
       "      <td>0</td>\n",
       "      <td>0.035186</td>\n",
       "      <td>8</td>\n",
       "      <td>85.1224</td>\n",
       "      <td>6</td>\n",
       "      <td>2004</td>\n",
       "      <td>2</td>\n",
       "      <td>1</td>\n",
       "      <td>1</td>\n",
       "    </tr>\n",
       "    <tr>\n",
       "      <th>8517</th>\n",
       "      <td>679</td>\n",
       "      <td>7.210</td>\n",
       "      <td>1</td>\n",
       "      <td>0.145221</td>\n",
       "      <td>13</td>\n",
       "      <td>103.1332</td>\n",
       "      <td>3</td>\n",
       "      <td>2009</td>\n",
       "      <td>1</td>\n",
       "      <td>2</td>\n",
       "      <td>2</td>\n",
       "    </tr>\n",
       "    <tr>\n",
       "      <th>8518</th>\n",
       "      <td>50</td>\n",
       "      <td>14.800</td>\n",
       "      <td>0</td>\n",
       "      <td>0.044878</td>\n",
       "      <td>14</td>\n",
       "      <td>75.4670</td>\n",
       "      <td>8</td>\n",
       "      <td>1997</td>\n",
       "      <td>2</td>\n",
       "      <td>0</td>\n",
       "      <td>1</td>\n",
       "    </tr>\n",
       "  </tbody>\n",
       "</table>\n",
       "<p>8519 rows × 11 columns</p>\n",
       "</div>"
      ],
      "text/plain": [
       "      Item_Identifier  Item_Weight  Item_Fat_Content  Item_Visibility  \\\n",
       "0                 156        9.300                 0         0.016047   \n",
       "1                   8        5.920                 1         0.019278   \n",
       "2                 660       17.500                 0         0.016760   \n",
       "3                1117       19.200                 1         0.000000   \n",
       "4                1293        8.930                 0         0.000000   \n",
       "...               ...          ...               ...              ...   \n",
       "8514              369        6.865                 0         0.056783   \n",
       "8515              893        8.380                 1         0.046982   \n",
       "8516             1353       10.600                 0         0.035186   \n",
       "8517              679        7.210                 1         0.145221   \n",
       "8518               50       14.800                 0         0.044878   \n",
       "\n",
       "      Item_Type  Item_MRP  Outlet_Identifier  Outlet_Establishment_Year  \\\n",
       "0             4  249.8092                  9                       1999   \n",
       "1            14   48.2692                  3                       2009   \n",
       "2            10  141.6180                  9                       1999   \n",
       "3             6  182.0950                  0                       1998   \n",
       "4             9   53.8614                  1                       1987   \n",
       "...         ...       ...                ...                        ...   \n",
       "8514         13  214.5218                  1                       1987   \n",
       "8515          0  108.1570                  7                       2002   \n",
       "8516          8   85.1224                  6                       2004   \n",
       "8517         13  103.1332                  3                       2009   \n",
       "8518         14   75.4670                  8                       1997   \n",
       "\n",
       "      Outlet_Size  Outlet_Location_Type  Outlet_Type  \n",
       "0               1                     0            1  \n",
       "1               1                     2            2  \n",
       "2               1                     0            1  \n",
       "3               2                     2            0  \n",
       "4               0                     2            1  \n",
       "...           ...                   ...          ...  \n",
       "8514            0                     2            1  \n",
       "8515            2                     1            1  \n",
       "8516            2                     1            1  \n",
       "8517            1                     2            2  \n",
       "8518            2                     0            1  \n",
       "\n",
       "[8519 rows x 11 columns]"
      ]
     },
     "execution_count": 133,
     "metadata": {},
     "output_type": "execute_result"
    }
   ],
   "source": [
    "X"
   ]
  },
  {
   "cell_type": "code",
   "execution_count": 134,
   "metadata": {},
   "outputs": [
    {
     "data": {
      "text/html": [
       "<div>\n",
       "<style scoped>\n",
       "    .dataframe tbody tr th:only-of-type {\n",
       "        vertical-align: middle;\n",
       "    }\n",
       "\n",
       "    .dataframe tbody tr th {\n",
       "        vertical-align: top;\n",
       "    }\n",
       "\n",
       "    .dataframe thead th {\n",
       "        text-align: right;\n",
       "    }\n",
       "</style>\n",
       "<table border=\"1\" class=\"dataframe\">\n",
       "  <thead>\n",
       "    <tr style=\"text-align: right;\">\n",
       "      <th></th>\n",
       "      <th>Item_Outlet_Sales</th>\n",
       "    </tr>\n",
       "  </thead>\n",
       "  <tbody>\n",
       "    <tr>\n",
       "      <th>0</th>\n",
       "      <td>3735.1380</td>\n",
       "    </tr>\n",
       "    <tr>\n",
       "      <th>1</th>\n",
       "      <td>443.4228</td>\n",
       "    </tr>\n",
       "    <tr>\n",
       "      <th>2</th>\n",
       "      <td>2097.2700</td>\n",
       "    </tr>\n",
       "    <tr>\n",
       "      <th>3</th>\n",
       "      <td>732.3800</td>\n",
       "    </tr>\n",
       "    <tr>\n",
       "      <th>4</th>\n",
       "      <td>994.7052</td>\n",
       "    </tr>\n",
       "    <tr>\n",
       "      <th>...</th>\n",
       "      <td>...</td>\n",
       "    </tr>\n",
       "    <tr>\n",
       "      <th>8514</th>\n",
       "      <td>2778.3834</td>\n",
       "    </tr>\n",
       "    <tr>\n",
       "      <th>8515</th>\n",
       "      <td>549.2850</td>\n",
       "    </tr>\n",
       "    <tr>\n",
       "      <th>8516</th>\n",
       "      <td>1193.1136</td>\n",
       "    </tr>\n",
       "    <tr>\n",
       "      <th>8517</th>\n",
       "      <td>1845.5976</td>\n",
       "    </tr>\n",
       "    <tr>\n",
       "      <th>8518</th>\n",
       "      <td>765.6700</td>\n",
       "    </tr>\n",
       "  </tbody>\n",
       "</table>\n",
       "<p>8519 rows × 1 columns</p>\n",
       "</div>"
      ],
      "text/plain": [
       "      Item_Outlet_Sales\n",
       "0             3735.1380\n",
       "1              443.4228\n",
       "2             2097.2700\n",
       "3              732.3800\n",
       "4              994.7052\n",
       "...                 ...\n",
       "8514          2778.3834\n",
       "8515           549.2850\n",
       "8516          1193.1136\n",
       "8517          1845.5976\n",
       "8518           765.6700\n",
       "\n",
       "[8519 rows x 1 columns]"
      ]
     },
     "execution_count": 134,
     "metadata": {},
     "output_type": "execute_result"
    }
   ],
   "source": [
    "y = df.loc[:, df.columns == 'Item_Outlet_Sales']\n",
    "y"
   ]
  },
  {
   "cell_type": "code",
   "execution_count": 135,
   "metadata": {},
   "outputs": [],
   "source": [
    "X_train, X_test, y_train, y_test = train_test_split(X, y, test_size=0.3, random_state=3)"
   ]
  },
  {
   "cell_type": "code",
   "execution_count": 136,
   "metadata": {},
   "outputs": [],
   "source": [
    "# Estandarizar datos\n",
    "scaler = StandardScaler()\n",
    "# Ajustar solo al conjunto de entrenamiento\n",
    "scaler.fit(X_train)\n",
    "# Aplicar  transform tanto al conjunto de entrenamiento como al conjunto de prueba\n",
    "X_train = scaler.transform(X_train)\n",
    "X_test = scaler.transform(X_test)"
   ]
  },
  {
   "cell_type": "markdown",
   "metadata": {},
   "source": [
    "Revisemos como queda la matriz de correlación ahora, con los datos ya escalados"
   ]
  },
  {
   "cell_type": "code",
   "execution_count": 137,
   "metadata": {},
   "outputs": [
    {
     "data": {
      "image/png": "[encoded data removed]",
      "text/plain": [
       "<Figure size 1080x720 with 2 Axes>"
      ]
     },
     "metadata": {},
     "output_type": "display_data"
    }
   ],
   "source": [
    "plt.figure(figsize=(15,10))\n",
    "plt.suptitle('Matriz de Correlación', size=20, y=0.94)\n",
    "sns.heatmap(df.corr(), annot=True, cmap='rocket');"
   ]
  },
  {
   "cell_type": "markdown",
   "metadata": {},
   "source": [
    "### 1. Regresion Lineal"
   ]
  },
  {
   "cell_type": "code",
   "execution_count": 138,
   "metadata": {},
   "outputs": [
    {
     "name": "stdout",
     "output_type": "stream",
     "text": [
      "El valor de R2 es de: 0.5130816294613008\n",
      "El valor de la raíz del error cuadrático medio es de: 1188.404770606179\n"
     ]
    }
   ],
   "source": [
    "# Generamos un modelo de regresión lineal y calculamos sus métricas\n",
    "lr = LinearRegression(fit_intercept=True)\n",
    "lr.fit(X_train,y_train)\n",
    "lr_score = lr.score(X_test, y_test)\n",
    "print('El valor de R2 es de:', lr_score)\n",
    "lr_rmse = mean_squared_error(y_test, lr.predict(X_test), squared=False)\n",
    "print('El valor de la raíz del error cuadrático medio es de:',lr_rmse)"
   ]
  },
  {
   "cell_type": "markdown",
   "metadata": {},
   "source": [
    "### 2. KNN Regresor"
   ]
  },
  {
   "cell_type": "code",
   "execution_count": 139,
   "metadata": {},
   "outputs": [],
   "source": [
    "# Ahora probaremos con un modelo de KNN Regresor\n",
    "# Primero vamos a buscar el K que minimice el RMSE\n",
    "lista_rmse = []\n",
    "for k in range (1,11):\n",
    "    knr = KNeighborsRegressor(n_neighbors=k)\n",
    "    knr.fit(X_train, y_train)\n",
    "    y_pred = knr.predict(X_test)\n",
    "    knr_rmse = mean_squared_error(y_test, y_pred, squared=False)\n",
    "    lista_rmse.append(knr_rmse)"
   ]
  },
  {
   "cell_type": "markdown",
   "metadata": {},
   "source": [
    "Graficamos lo obtenido"
   ]
  },
  {
   "cell_type": "code",
   "execution_count": 140,
   "metadata": {},
   "outputs": [
    {
     "data": {
      "image/png": "[encoded data removed]",
      "text/plain": [
       "<Figure size 864x432 with 1 Axes>"
      ]
     },
     "metadata": {},
     "output_type": "display_data"
    }
   ],
   "source": [
    "sns.set(style = 'whitegrid')\n",
    "plt.figure(figsize=(12,6))\n",
    "plt.plot(range(1,11),lista_rmse, linewidth=2, color=\"red\", marker =\"8\")\n",
    "plt.xlabel(\"K Value\")\n",
    "plt.xticks(np.arange(1,11,1))\n",
    "plt.ylabel(\"RMSE\")\n",
    "plt.title('Gráfico Codo - Buscando el K óptimo')\n",
    "plt.show()"
   ]
  },
  {
   "cell_type": "code",
   "execution_count": 141,
   "metadata": {},
   "outputs": [
    {
     "name": "stdout",
     "output_type": "stream",
     "text": [
      "El valor de R2 es de: 0.525739231270131\n",
      "El valor de la raíz del error cuadrático medio es de: 1172.8565753994637\n"
     ]
    }
   ],
   "source": [
    "# Utilizamos como K=5\n",
    "knr = KNeighborsRegressor(n_neighbors=5)\n",
    "knr.fit(X_train, y_train)\n",
    "y_pred = knr.predict(X_test)\n",
    "knr_rmse = mean_squared_error(y_test, y_pred, squared=False)\n",
    "knr_score = knr.score(X_test, y_test)\n",
    "print('El valor de R2 es de:', knr_score)\n",
    "print('El valor de la raíz del error cuadrático medio es de:',knr_rmse)"
   ]
  },
  {
   "cell_type": "markdown",
   "metadata": {},
   "source": [
    "### 3. Random Forest Regresor"
   ]
  },
  {
   "cell_type": "code",
   "execution_count": 142,
   "metadata": {},
   "outputs": [],
   "source": [
    "# Rango de Estimadores\n",
    "estimator_range = [1]+list(range(10, 110, 10))"
   ]
  },
  {
   "cell_type": "code",
   "execution_count": 143,
   "metadata": {},
   "outputs": [
    {
     "name": "stderr",
     "output_type": "stream",
     "text": [
      "/var/folders/pm/hdckrf6d34b6c4hr6x6gnp1m0000gn/T/ipykernel_5337/2822960996.py:6: DataConversionWarning: A column-vector y was passed when a 1d array was expected. Please change the shape of y to (n_samples,), for example using ravel().\n",
      "  rf.fit(X_train, y_train.values)\n",
      "/var/folders/pm/hdckrf6d34b6c4hr6x6gnp1m0000gn/T/ipykernel_5337/2822960996.py:6: DataConversionWarning: A column-vector y was passed when a 1d array was expected. Please change the shape of y to (n_samples,), for example using ravel().\n",
      "  rf.fit(X_train, y_train.values)\n",
      "/var/folders/pm/hdckrf6d34b6c4hr6x6gnp1m0000gn/T/ipykernel_5337/2822960996.py:6: DataConversionWarning: A column-vector y was passed when a 1d array was expected. Please change the shape of y to (n_samples,), for example using ravel().\n",
      "  rf.fit(X_train, y_train.values)\n",
      "/var/folders/pm/hdckrf6d34b6c4hr6x6gnp1m0000gn/T/ipykernel_5337/2822960996.py:6: DataConversionWarning: A column-vector y was passed when a 1d array was expected. Please change the shape of y to (n_samples,), for example using ravel().\n",
      "  rf.fit(X_train, y_train.values)\n",
      "/var/folders/pm/hdckrf6d34b6c4hr6x6gnp1m0000gn/T/ipykernel_5337/2822960996.py:6: DataConversionWarning: A column-vector y was passed when a 1d array was expected. Please change the shape of y to (n_samples,), for example using ravel().\n",
      "  rf.fit(X_train, y_train.values)\n",
      "/var/folders/pm/hdckrf6d34b6c4hr6x6gnp1m0000gn/T/ipykernel_5337/2822960996.py:6: DataConversionWarning: A column-vector y was passed when a 1d array was expected. Please change the shape of y to (n_samples,), for example using ravel().\n",
      "  rf.fit(X_train, y_train.values)\n",
      "/var/folders/pm/hdckrf6d34b6c4hr6x6gnp1m0000gn/T/ipykernel_5337/2822960996.py:6: DataConversionWarning: A column-vector y was passed when a 1d array was expected. Please change the shape of y to (n_samples,), for example using ravel().\n",
      "  rf.fit(X_train, y_train.values)\n",
      "/var/folders/pm/hdckrf6d34b6c4hr6x6gnp1m0000gn/T/ipykernel_5337/2822960996.py:6: DataConversionWarning: A column-vector y was passed when a 1d array was expected. Please change the shape of y to (n_samples,), for example using ravel().\n",
      "  rf.fit(X_train, y_train.values)\n",
      "/var/folders/pm/hdckrf6d34b6c4hr6x6gnp1m0000gn/T/ipykernel_5337/2822960996.py:6: DataConversionWarning: A column-vector y was passed when a 1d array was expected. Please change the shape of y to (n_samples,), for example using ravel().\n",
      "  rf.fit(X_train, y_train.values)\n",
      "/var/folders/pm/hdckrf6d34b6c4hr6x6gnp1m0000gn/T/ipykernel_5337/2822960996.py:6: DataConversionWarning: A column-vector y was passed when a 1d array was expected. Please change the shape of y to (n_samples,), for example using ravel().\n",
      "  rf.fit(X_train, y_train.values)\n",
      "/var/folders/pm/hdckrf6d34b6c4hr6x6gnp1m0000gn/T/ipykernel_5337/2822960996.py:6: DataConversionWarning: A column-vector y was passed when a 1d array was expected. Please change the shape of y to (n_samples,), for example using ravel().\n",
      "  rf.fit(X_train, y_train.values)\n"
     ]
    }
   ],
   "source": [
    "# Buscamos la cantidad de estimadores que maximice el puntaje de modelo\n",
    "scores = []\n",
    "for estimator in estimator_range:\n",
    "    rf = RandomForestRegressor(n_estimators=estimator,\n",
    "                                 random_state=3)\n",
    "    rf.fit(X_train, y_train.values)\n",
    "    scores.append(rf.score(X_test, y_test.values))"
   ]
  },
  {
   "cell_type": "code",
   "execution_count": 144,
   "metadata": {},
   "outputs": [
    {
     "data": {
      "text/plain": [
       "[0.1758550647682312,\n",
       " 0.535179377668026,\n",
       " 0.5431415086686977,\n",
       " 0.549984725707916,\n",
       " 0.5539758600069827,\n",
       " 0.5556114413460059,\n",
       " 0.5567776228697339,\n",
       " 0.5563829030505261,\n",
       " 0.55746319242863,\n",
       " 0.5581409585522701,\n",
       " 0.55911696642048]"
      ]
     },
     "execution_count": 144,
     "metadata": {},
     "output_type": "execute_result"
    }
   ],
   "source": [
    "scores"
   ]
  },
  {
   "cell_type": "code",
   "execution_count": 145,
   "metadata": {},
   "outputs": [
    {
     "data": {
      "image/png": "[encoded data removed]",
      "text/plain": [
       "<Figure size 864x432 with 1 Axes>"
      ]
     },
     "metadata": {},
     "output_type": "display_data"
    }
   ],
   "source": [
    "sns.set(style = 'whitegrid')\n",
    "plt.figure(figsize=(12,6))\n",
    "plt.plot(estimator_range, scores, linewidth=2, color=\"red\", marker =\"8\")\n",
    "plt.xlabel(\"Número de Estimadores\")\n",
    "plt.xticks(np.arange(0,110,10))\n",
    "plt.ylabel(\"Accuracy\")\n",
    "plt.title('Estimadores vs Accuracy')\n",
    "plt.show()"
   ]
  },
  {
   "cell_type": "code",
   "execution_count": 146,
   "metadata": {},
   "outputs": [],
   "source": [
    "# Utilizaremos número de estimadores = 100, que es el valor que viene por defecto\n",
    "rf = RandomForestRegressor(n_estimators=100, bootstrap=True, oob_score=True, random_state=3)"
   ]
  },
  {
   "cell_type": "code",
   "execution_count": 147,
   "metadata": {},
   "outputs": [
    {
     "name": "stderr",
     "output_type": "stream",
     "text": [
      "/var/folders/pm/hdckrf6d34b6c4hr6x6gnp1m0000gn/T/ipykernel_5337/2725846524.py:1: DataConversionWarning: A column-vector y was passed when a 1d array was expected. Please change the shape of y to (n_samples,), for example using ravel().\n",
      "  rf.fit(X_train, y_train)\n"
     ]
    },
    {
     "data": {
      "text/plain": [
       "RandomForestRegressor(oob_score=True, random_state=3)"
      ]
     },
     "execution_count": 147,
     "metadata": {},
     "output_type": "execute_result"
    }
   ],
   "source": [
    "rf.fit(X_train, y_train)"
   ]
  },
  {
   "cell_type": "code",
   "execution_count": 148,
   "metadata": {},
   "outputs": [
    {
     "data": {
      "text/plain": [
       "array([ 550.976132,  956.042194, 1936.266244, ..., 1612.421124,\n",
       "        200.086216, 1298.816008])"
      ]
     },
     "execution_count": 148,
     "metadata": {},
     "output_type": "execute_result"
    }
   ],
   "source": [
    "rf.predict(X_test)"
   ]
  },
  {
   "cell_type": "code",
   "execution_count": 149,
   "metadata": {},
   "outputs": [
    {
     "name": "stdout",
     "output_type": "stream",
     "text": [
      "0.55911696642048\n",
      "1130.8317659532577\n"
     ]
    }
   ],
   "source": [
    "rf_score = rf.score(X_test, y_test)\n",
    "print(rf_score)\n",
    "rf_rmse = lr_rmse = mean_squared_error(y_test, rf.predict(X_test), squared=False)\n",
    "print(rf_rmse)"
   ]
  },
  {
   "cell_type": "code",
   "execution_count": 150,
   "metadata": {
    "scrolled": true
   },
   "outputs": [
    {
     "data": {
      "image/png": "[encoded data removed]",
      "text/plain": [
       "<Figure size 864x360 with 1 Axes>"
      ]
     },
     "metadata": {},
     "output_type": "display_data"
    }
   ],
   "source": [
    "rf_fi= pd.DataFrame(zip(X.columns, rf.feature_importances_), columns=['Feature', 'Scores'])\n",
    "rf_fi.sort_values(by='Scores', inplace=True)\n",
    "\n",
    "plt.figure(figsize=(12,5))\n",
    "plt.barh(rf_fi['Feature'], rf_fi['Scores'])\n",
    "plt.title('Top Fetures Random Forest - N estimators=10');"
   ]
  },
  {
   "cell_type": "markdown",
   "metadata": {},
   "source": [
    "### Resumen"
   ]
  },
  {
   "cell_type": "code",
   "execution_count": 151,
   "metadata": {},
   "outputs": [
    {
     "data": {
      "text/html": [
       "<div>\n",
       "<style scoped>\n",
       "    .dataframe tbody tr th:only-of-type {\n",
       "        vertical-align: middle;\n",
       "    }\n",
       "\n",
       "    .dataframe tbody tr th {\n",
       "        vertical-align: top;\n",
       "    }\n",
       "\n",
       "    .dataframe thead th {\n",
       "        text-align: right;\n",
       "    }\n",
       "</style>\n",
       "<table border=\"1\" class=\"dataframe\">\n",
       "  <thead>\n",
       "    <tr style=\"text-align: right;\">\n",
       "      <th></th>\n",
       "      <th>R2</th>\n",
       "      <th>RMSE</th>\n",
       "    </tr>\n",
       "  </thead>\n",
       "  <tbody>\n",
       "    <tr>\n",
       "      <th>Regresion Lineal</th>\n",
       "      <td>0.513082</td>\n",
       "      <td>1130.831766</td>\n",
       "    </tr>\n",
       "    <tr>\n",
       "      <th>KNN Regresor</th>\n",
       "      <td>0.525739</td>\n",
       "      <td>1172.856575</td>\n",
       "    </tr>\n",
       "    <tr>\n",
       "      <th>Random Forest Regresor</th>\n",
       "      <td>0.559117</td>\n",
       "      <td>1130.831766</td>\n",
       "    </tr>\n",
       "  </tbody>\n",
       "</table>\n",
       "</div>"
      ],
      "text/plain": [
       "                              R2         RMSE\n",
       "Regresion Lineal        0.513082  1130.831766\n",
       "KNN Regresor            0.525739  1172.856575\n",
       "Random Forest Regresor  0.559117  1130.831766"
      ]
     },
     "execution_count": 151,
     "metadata": {},
     "output_type": "execute_result"
    }
   ],
   "source": [
    "indice = ['Regresion Lineal',\n",
    "          'KNN Regresor',\n",
    "          'Random Forest Regresor']\n",
    "indicadores = {'R2' : [lr_score, knr_score, rf_score],\n",
    "                'RMSE': [lr_rmse, knr_rmse, rf_rmse]\n",
    "                }\n",
    "resumen = pd.DataFrame(indicadores, index=indice)\n",
    "resumen"
   ]
  },
  {
   "cell_type": "markdown",
   "metadata": {},
   "source": [
    "Revisando los indicadores anteriores, el modelo que mejor se ajusta a los datos es Random Forest Regresor.\n",
    "Este modelo tiene un R2 de 0.559, lo que quiere decir que aproximadamente 56% de la variación de los ventas puede ser explicado por las características utilizadas en este modelo. Por otro lado, en promedio, este modelo es incorrecto en aproximadamentes 1130 USD por venta de items por outlet.\n",
    "\n",
    "Si bien es el mejor modelo obtenido hasta este momento, no quiere decir que no se pueda mejorar.\n",
    "Para ello sería importante consultar a un experto, si efectivamente es necesario utilizar todas las caracteristicas indicadas en el ser de datos, o bien se pueden omitir algunas que quizas no aporten nada al modelo"
   ]
  }
 ],
 "metadata": {
  "colab": {
   "name": "data-cleaning.ipynb",
   "provenance": []
  },
  "kernelspec": {
   "display_name": "Python 3 (ipykernel)",
   "language": "python",
   "name": "python3"
  },
  "language_info": {
   "codemirror_mode": {
    "name": "ipython",
    "version": 3
   },
   "file_extension": ".py",
   "mimetype": "text/x-python",
   "name": "python",
   "nbconvert_exporter": "python",
   "pygments_lexer": "ipython3",
   "version": "3.9.7"
  }
 },
 "nbformat": 4,
 "nbformat_minor": 1
}
